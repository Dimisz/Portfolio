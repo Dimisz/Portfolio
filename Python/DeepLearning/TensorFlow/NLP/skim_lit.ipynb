{
  "nbformat": 4,
  "nbformat_minor": 0,
  "metadata": {
    "colab": {
      "name": "SkimLit_replica.ipynb",
      "provenance": [],
      "collapsed_sections": [],
      "authorship_tag": "ABX9TyN2tBM62Ab1/vquAWwuUtOJ",
      "include_colab_link": true
    },
    "kernelspec": {
      "display_name": "Python 3",
      "name": "python3"
    },
    "language_info": {
      "name": "python"
    },
    "accelerator": "GPU"
  },
  "cells": [
    {
      "cell_type": "markdown",
      "metadata": {
        "id": "view-in-github",
        "colab_type": "text"
      },
      "source": [
        "<a href=\"https://colab.research.google.com/github/Dimisz/Portfolio/blob/main/Python/DeepLearning/TensorFlow/NLP/skim_lit.ipynb\" target=\"_parent\"><img src=\"https://colab.research.google.com/assets/colab-badge.svg\" alt=\"Open In Colab\"/></a>"
      ]
    },
    {
      "cell_type": "markdown",
      "metadata": {
        "id": "22zzXtH4PD9D"
      },
      "source": [
        "# Replicating SkimLit\n",
        "\n",
        "The purpose of the project is to build an NLP model to make reading medical abstracts easier.\n",
        "\n",
        "The paper we are replicating is available here:\n"
      ]
    },
    {
      "cell_type": "markdown",
      "metadata": {
        "id": "m3BzTJxwXhIR"
      },
      "source": [
        "## Get the data\n",
        "\n",
        "Let's download the dataset used for PubMed 200k RCT (the paper we're replicating).\n",
        "\n",
        "We can download the dataset from the author's GitHub: https://github.com/Franck-Dernoncourt/pubmed-rct"
      ]
    },
    {
      "cell_type": "code",
      "metadata": {
        "colab": {
          "base_uri": "https://localhost:8080/"
        },
        "id": "Q5euNq3ZYOVS",
        "outputId": "a660bc22-7d11-4d0d-f0e7-f4e9370d45d5"
      },
      "source": [
        "!git clone https://github.com/Franck-Dernoncourt/pubmed-rct\n",
        "!ls pubmed-rct"
      ],
      "execution_count": 1,
      "outputs": [
        {
          "output_type": "stream",
          "name": "stdout",
          "text": [
            "Cloning into 'pubmed-rct'...\n",
            "remote: Enumerating objects: 33, done.\u001b[K\n",
            "remote: Counting objects: 100% (3/3), done.\u001b[K\n",
            "remote: Compressing objects: 100% (3/3), done.\u001b[K\n",
            "remote: Total 33 (delta 0), reused 0 (delta 0), pack-reused 30\u001b[K\n",
            "Unpacking objects: 100% (33/33), done.\n",
            "PubMed_200k_RCT\n",
            "PubMed_200k_RCT_numbers_replaced_with_at_sign\n",
            "PubMed_20k_RCT\n",
            "PubMed_20k_RCT_numbers_replaced_with_at_sign\n",
            "README.md\n"
          ]
        }
      ]
    },
    {
      "cell_type": "code",
      "metadata": {
        "colab": {
          "base_uri": "https://localhost:8080/"
        },
        "id": "6s5bQT6jYImO",
        "outputId": "f1faf1e2-b052-46a7-92d5-b0e999e51cc9"
      },
      "source": [
        "# Check what files are in the PubMed_20K dataset\n",
        "!ls pubmed-rct/PubMed_20k_RCT_numbers_replaced_with_at_sign/"
      ],
      "execution_count": 2,
      "outputs": [
        {
          "output_type": "stream",
          "name": "stdout",
          "text": [
            "dev.txt  test.txt  train.txt\n"
          ]
        }
      ]
    },
    {
      "cell_type": "code",
      "metadata": {
        "id": "RpZ6eaG8HFzJ"
      },
      "source": [
        "# Start our experiments using the 20k dataset with numbers replaced by '@' sign\n",
        "data_dir = \"/content/pubmed-rct/PubMed_20k_RCT_numbers_replaced_with_at_sign\""
      ],
      "execution_count": 3,
      "outputs": []
    },
    {
      "cell_type": "code",
      "metadata": {
        "colab": {
          "base_uri": "https://localhost:8080/"
        },
        "id": "BLTse5L9Ihid",
        "outputId": "139f2e0b-46d0-4457-9d0e-684d50e5c857"
      },
      "source": [
        "# Check all of the filenames in the target directory\n",
        "import os\n",
        "filenames = [data_dir + \"/\" + filename for filename in os.listdir(data_dir)]\n",
        "filenames"
      ],
      "execution_count": 4,
      "outputs": [
        {
          "output_type": "execute_result",
          "data": {
            "text/plain": [
              "['/content/pubmed-rct/PubMed_20k_RCT_numbers_replaced_with_at_sign/dev.txt',\n",
              " '/content/pubmed-rct/PubMed_20k_RCT_numbers_replaced_with_at_sign/test.txt',\n",
              " '/content/pubmed-rct/PubMed_20k_RCT_numbers_replaced_with_at_sign/train.txt']"
            ]
          },
          "metadata": {},
          "execution_count": 4
        }
      ]
    },
    {
      "cell_type": "markdown",
      "metadata": {
        "id": "4eqXKRArI6R1"
      },
      "source": [
        "## Preprocess data\n",
        "\n",
        "Visualize our text data to get a better understanding of it.\n",
        "\n",
        "To do this:\n",
        "* Write a function to read the text files"
      ]
    },
    {
      "cell_type": "code",
      "metadata": {
        "id": "ktnHlTbLJrtJ"
      },
      "source": [
        "# Create the function to read the lines of the document\n",
        "def get_lines(filename):\n",
        "  \"\"\"\n",
        "  Reads filename (a text filename) and returns the lines of text as a list.\n",
        "\n",
        "  Args:\n",
        "    filename: a string containing the target filepath.\n",
        "\n",
        "  Returns:\n",
        "    A list of strings with one string per line from the target filename.\n",
        "  \"\"\"\n",
        "  with open(filename, \"r\") as f:\n",
        "    return f.readlines()\n"
      ],
      "execution_count": 5,
      "outputs": []
    },
    {
      "cell_type": "code",
      "metadata": {
        "colab": {
          "base_uri": "https://localhost:8080/"
        },
        "id": "Dm7GRQYHKsVs",
        "outputId": "6c272b60-89b3-4ad1-9bd5-19db25848a86"
      },
      "source": [
        "train_lines = get_lines(data_dir + '/train.txt')\n",
        "train_lines[:20]"
      ],
      "execution_count": 6,
      "outputs": [
        {
          "output_type": "execute_result",
          "data": {
            "text/plain": [
              "['###24293578\\n',\n",
              " 'OBJECTIVE\\tTo investigate the efficacy of @ weeks of daily low-dose oral prednisolone in improving pain , mobility , and systemic low-grade inflammation in the short term and whether the effect would be sustained at @ weeks in older adults with moderate to severe knee osteoarthritis ( OA ) .\\n',\n",
              " 'METHODS\\tA total of @ patients with primary knee OA were randomized @:@ ; @ received @ mg/day of prednisolone and @ received placebo for @ weeks .\\n',\n",
              " 'METHODS\\tOutcome measures included pain reduction and improvement in function scores and systemic inflammation markers .\\n',\n",
              " 'METHODS\\tPain was assessed using the visual analog pain scale ( @-@ mm ) .\\n',\n",
              " 'METHODS\\tSecondary outcome measures included the Western Ontario and McMaster Universities Osteoarthritis Index scores , patient global assessment ( PGA ) of the severity of knee OA , and @-min walk distance ( @MWD ) .\\n',\n",
              " 'METHODS\\tSerum levels of interleukin @ ( IL-@ ) , IL-@ , tumor necrosis factor ( TNF ) - , and high-sensitivity C-reactive protein ( hsCRP ) were measured .\\n',\n",
              " 'RESULTS\\tThere was a clinically relevant reduction in the intervention group compared to the placebo group for knee pain , physical function , PGA , and @MWD at @ weeks .\\n',\n",
              " 'RESULTS\\tThe mean difference between treatment arms ( @ % CI ) was @ ( @-@ @ ) , p < @ ; @ ( @-@ @ ) , p < @ ; @ ( @-@ @ ) , p < @ ; and @ ( @-@ @ ) , p < @ , respectively .\\n',\n",
              " 'RESULTS\\tFurther , there was a clinically relevant reduction in the serum levels of IL-@ , IL-@ , TNF - , and hsCRP at @ weeks in the intervention group when compared to the placebo group .\\n',\n",
              " 'RESULTS\\tThese differences remained significant at @ weeks .\\n',\n",
              " 'RESULTS\\tThe Outcome Measures in Rheumatology Clinical Trials-Osteoarthritis Research Society International responder rate was @ % in the intervention group and @ % in the placebo group ( p < @ ) .\\n',\n",
              " 'CONCLUSIONS\\tLow-dose oral prednisolone had both a short-term and a longer sustained effect resulting in less knee pain , better physical function , and attenuation of systemic inflammation in older patients with knee OA ( ClinicalTrials.gov identifier NCT@ ) .\\n',\n",
              " '\\n',\n",
              " '###24854809\\n',\n",
              " 'BACKGROUND\\tEmotional eating is associated with overeating and the development of obesity .\\n',\n",
              " 'BACKGROUND\\tYet , empirical evidence for individual ( trait ) differences in emotional eating and cognitive mechanisms that contribute to eating during sad mood remain equivocal .\\n',\n",
              " 'OBJECTIVE\\tThe aim of this study was to test if attention bias for food moderates the effect of self-reported emotional eating during sad mood ( vs neutral mood ) on actual food intake .\\n',\n",
              " 'OBJECTIVE\\tIt was expected that emotional eating is predictive of elevated attention for food and higher food intake after an experimentally induced sad mood and that attentional maintenance on food predicts food intake during a sad versus a neutral mood .\\n',\n",
              " 'METHODS\\tParticipants ( N = @ ) were randomly assigned to one of the two experimental mood induction conditions ( sad/neutral ) .\\n']"
            ]
          },
          "metadata": {},
          "execution_count": 6
        }
      ]
    },
    {
      "cell_type": "code",
      "metadata": {
        "colab": {
          "base_uri": "https://localhost:8080/"
        },
        "id": "nDTeubs8KzPi",
        "outputId": "a2808d7b-d92e-4722-b323-14dd7499ba70"
      },
      "source": [
        "len(train_lines)"
      ],
      "execution_count": 7,
      "outputs": [
        {
          "output_type": "execute_result",
          "data": {
            "text/plain": [
              "210040"
            ]
          },
          "metadata": {},
          "execution_count": 7
        }
      ]
    },
    {
      "cell_type": "code",
      "metadata": {
        "id": "7dx95CiQMI3b"
      },
      "source": [
        "# Create a funcction to preprocess our text to the fformat we need\n",
        "def preprocess_text_with_line_numbers(filename):\n",
        "  \"\"\"\n",
        "  Returns a list of dictionaries of abstract line data.\n",
        "\n",
        "  Takes in filename, reads its contents and sorts through each line,\n",
        "  extracting things like the target label, the text of the sentence,\n",
        "  how many sentences are in the current abstract and what sentence \n",
        "  number the target line is.\n",
        "  \"\"\"\n",
        "  input_lines = get_lines(filename) # get all the lines from the file\n",
        "  abstract_lines = \"\" # create an empty abstract\n",
        "  abstract_samples = [] # create an empty list of abstracts\n",
        "\n",
        "  #Loop throough each line in the target line\n",
        "  for line in input_lines:\n",
        "    if line.startswith('###'): # check if there is an ID line\n",
        "      abstract_id = line\n",
        "      abstract_lines = \"\" # reset the abstract string if the line is an ID line\n",
        "    elif line.isspace(): # check to see if line is a new line\n",
        "      abstract_line_split = abstract_lines.splitlines() # split abstract into separate llines\n",
        "\n",
        "      # Iterate through each line in a single abstract and count them at the same line\n",
        "      for abstract_line_number, abstract_line in enumerate(abstract_line_split):\n",
        "        line_data = {}\n",
        "        target_text_split = abstract_line.split(\"\\t\") #split target label ffrom text\n",
        "        line_data[\"target\"] = target_text_split[0]\n",
        "        line_data[\"text\"] = target_text_split[1].lower()\n",
        "        line_data[\"line_number\"] = abstract_line_number \n",
        "        line_data[\"total_lines\"] = len(abstract_line_split)-1\n",
        "        abstract_samples.append(line_data)\n",
        "    \n",
        "    else: #the line contains labelled sentence\n",
        "      abstract_lines += line\n",
        "    \n",
        "\n",
        "  return abstract_samples\n"
      ],
      "execution_count": 8,
      "outputs": []
    },
    {
      "cell_type": "code",
      "metadata": {
        "colab": {
          "base_uri": "https://localhost:8080/"
        },
        "id": "puatWth55rlj",
        "outputId": "deefca7a-82ee-4ce0-af67-77f90f7dde54"
      },
      "source": [
        "# Get data from file annd preprocess it\n",
        "%%time\n",
        "train_samples = preprocess_text_with_line_numbers(data_dir+\"/train.txt\")\n",
        "val_samples = preprocess_text_with_line_numbers(data_dir+\"/dev.txt\")\n",
        "test_samples = preprocess_text_with_line_numbers(data_dir+\"/test.txt\")\n",
        "print(len(train_samples), len(val_samples), len(test_samples))"
      ],
      "execution_count": 9,
      "outputs": [
        {
          "output_type": "stream",
          "name": "stdout",
          "text": [
            "180040 30212 30135\n",
            "CPU times: user 581 ms, sys: 104 ms, total: 685 ms\n",
            "Wall time: 691 ms\n"
          ]
        }
      ]
    },
    {
      "cell_type": "code",
      "metadata": {
        "colab": {
          "base_uri": "https://localhost:8080/"
        },
        "id": "KMI8pHekAfHE",
        "outputId": "50fe6722-9af7-4c7f-f50e-9eb14f68c238"
      },
      "source": [
        "# Check the first abstract of our training data\n",
        "train_samples[:10]"
      ],
      "execution_count": 10,
      "outputs": [
        {
          "output_type": "execute_result",
          "data": {
            "text/plain": [
              "[{'line_number': 0,\n",
              "  'target': 'OBJECTIVE',\n",
              "  'text': 'to investigate the efficacy of @ weeks of daily low-dose oral prednisolone in improving pain , mobility , and systemic low-grade inflammation in the short term and whether the effect would be sustained at @ weeks in older adults with moderate to severe knee osteoarthritis ( oa ) .',\n",
              "  'total_lines': 11},\n",
              " {'line_number': 1,\n",
              "  'target': 'METHODS',\n",
              "  'text': 'a total of @ patients with primary knee oa were randomized @:@ ; @ received @ mg/day of prednisolone and @ received placebo for @ weeks .',\n",
              "  'total_lines': 11},\n",
              " {'line_number': 2,\n",
              "  'target': 'METHODS',\n",
              "  'text': 'outcome measures included pain reduction and improvement in function scores and systemic inflammation markers .',\n",
              "  'total_lines': 11},\n",
              " {'line_number': 3,\n",
              "  'target': 'METHODS',\n",
              "  'text': 'pain was assessed using the visual analog pain scale ( @-@ mm ) .',\n",
              "  'total_lines': 11},\n",
              " {'line_number': 4,\n",
              "  'target': 'METHODS',\n",
              "  'text': 'secondary outcome measures included the western ontario and mcmaster universities osteoarthritis index scores , patient global assessment ( pga ) of the severity of knee oa , and @-min walk distance ( @mwd ) .',\n",
              "  'total_lines': 11},\n",
              " {'line_number': 5,\n",
              "  'target': 'METHODS',\n",
              "  'text': 'serum levels of interleukin @ ( il-@ ) , il-@ , tumor necrosis factor ( tnf ) - , and high-sensitivity c-reactive protein ( hscrp ) were measured .',\n",
              "  'total_lines': 11},\n",
              " {'line_number': 6,\n",
              "  'target': 'RESULTS',\n",
              "  'text': 'there was a clinically relevant reduction in the intervention group compared to the placebo group for knee pain , physical function , pga , and @mwd at @ weeks .',\n",
              "  'total_lines': 11},\n",
              " {'line_number': 7,\n",
              "  'target': 'RESULTS',\n",
              "  'text': 'the mean difference between treatment arms ( @ % ci ) was @ ( @-@ @ ) , p < @ ; @ ( @-@ @ ) , p < @ ; @ ( @-@ @ ) , p < @ ; and @ ( @-@ @ ) , p < @ , respectively .',\n",
              "  'total_lines': 11},\n",
              " {'line_number': 8,\n",
              "  'target': 'RESULTS',\n",
              "  'text': 'further , there was a clinically relevant reduction in the serum levels of il-@ , il-@ , tnf - , and hscrp at @ weeks in the intervention group when compared to the placebo group .',\n",
              "  'total_lines': 11},\n",
              " {'line_number': 9,\n",
              "  'target': 'RESULTS',\n",
              "  'text': 'these differences remained significant at @ weeks .',\n",
              "  'total_lines': 11}]"
            ]
          },
          "metadata": {},
          "execution_count": 10
        }
      ]
    },
    {
      "cell_type": "code",
      "metadata": {
        "id": "Xbs_tKmqBRX2"
      },
      "source": [
        "import pandas as pd\n",
        "\n",
        "train_df = pd.DataFrame(train_samples)\n",
        "val_df = pd.DataFrame(val_samples)\n",
        "test_df = pd.DataFrame(test_samples)"
      ],
      "execution_count": 11,
      "outputs": []
    },
    {
      "cell_type": "code",
      "metadata": {
        "colab": {
          "base_uri": "https://localhost:8080/",
          "height": 204
        },
        "id": "vEPy4hNbIvCP",
        "outputId": "f18c2485-edf4-4fdb-f167-28ce20c8c81e"
      },
      "source": [
        "train_df.head()"
      ],
      "execution_count": 12,
      "outputs": [
        {
          "output_type": "execute_result",
          "data": {
            "text/html": [
              "<div>\n",
              "<style scoped>\n",
              "    .dataframe tbody tr th:only-of-type {\n",
              "        vertical-align: middle;\n",
              "    }\n",
              "\n",
              "    .dataframe tbody tr th {\n",
              "        vertical-align: top;\n",
              "    }\n",
              "\n",
              "    .dataframe thead th {\n",
              "        text-align: right;\n",
              "    }\n",
              "</style>\n",
              "<table border=\"1\" class=\"dataframe\">\n",
              "  <thead>\n",
              "    <tr style=\"text-align: right;\">\n",
              "      <th></th>\n",
              "      <th>target</th>\n",
              "      <th>text</th>\n",
              "      <th>line_number</th>\n",
              "      <th>total_lines</th>\n",
              "    </tr>\n",
              "  </thead>\n",
              "  <tbody>\n",
              "    <tr>\n",
              "      <th>0</th>\n",
              "      <td>OBJECTIVE</td>\n",
              "      <td>to investigate the efficacy of @ weeks of dail...</td>\n",
              "      <td>0</td>\n",
              "      <td>11</td>\n",
              "    </tr>\n",
              "    <tr>\n",
              "      <th>1</th>\n",
              "      <td>METHODS</td>\n",
              "      <td>a total of @ patients with primary knee oa wer...</td>\n",
              "      <td>1</td>\n",
              "      <td>11</td>\n",
              "    </tr>\n",
              "    <tr>\n",
              "      <th>2</th>\n",
              "      <td>METHODS</td>\n",
              "      <td>outcome measures included pain reduction and i...</td>\n",
              "      <td>2</td>\n",
              "      <td>11</td>\n",
              "    </tr>\n",
              "    <tr>\n",
              "      <th>3</th>\n",
              "      <td>METHODS</td>\n",
              "      <td>pain was assessed using the visual analog pain...</td>\n",
              "      <td>3</td>\n",
              "      <td>11</td>\n",
              "    </tr>\n",
              "    <tr>\n",
              "      <th>4</th>\n",
              "      <td>METHODS</td>\n",
              "      <td>secondary outcome measures included the wester...</td>\n",
              "      <td>4</td>\n",
              "      <td>11</td>\n",
              "    </tr>\n",
              "  </tbody>\n",
              "</table>\n",
              "</div>"
            ],
            "text/plain": [
              "      target  ... total_lines\n",
              "0  OBJECTIVE  ...          11\n",
              "1    METHODS  ...          11\n",
              "2    METHODS  ...          11\n",
              "3    METHODS  ...          11\n",
              "4    METHODS  ...          11\n",
              "\n",
              "[5 rows x 4 columns]"
            ]
          },
          "metadata": {},
          "execution_count": 12
        }
      ]
    },
    {
      "cell_type": "code",
      "metadata": {
        "colab": {
          "base_uri": "https://localhost:8080/"
        },
        "id": "l8DEvnSXI5eE",
        "outputId": "afc5815a-559f-4727-9825-788f3846943c"
      },
      "source": [
        "# Distribution of labels\n",
        "train_df.target.value_counts()"
      ],
      "execution_count": 13,
      "outputs": [
        {
          "output_type": "execute_result",
          "data": {
            "text/plain": [
              "METHODS        59353\n",
              "RESULTS        57953\n",
              "CONCLUSIONS    27168\n",
              "BACKGROUND     21727\n",
              "OBJECTIVE      13839\n",
              "Name: target, dtype: int64"
            ]
          },
          "metadata": {},
          "execution_count": 13
        }
      ]
    },
    {
      "cell_type": "code",
      "metadata": {
        "colab": {
          "base_uri": "https://localhost:8080/",
          "height": 284
        },
        "id": "Ikx_ymaxJPVO",
        "outputId": "3aa0fdd8-46c4-4020-81dd-8b9908667ecd"
      },
      "source": [
        "# Let's check length of different lines\n",
        "train_df.total_lines.plot.hist()"
      ],
      "execution_count": 14,
      "outputs": [
        {
          "output_type": "execute_result",
          "data": {
            "text/plain": [
              "<matplotlib.axes._subplots.AxesSubplot at 0x7f86dff0d8d0>"
            ]
          },
          "metadata": {},
          "execution_count": 14
        },
        {
          "output_type": "display_data",
          "data": {
            "image/png": "[encoded data removed]",
            "text/plain": [
              "<Figure size 432x288 with 1 Axes>"
            ]
          },
          "metadata": {
            "needs_background": "light"
          }
        }
      ]
    },
    {
      "cell_type": "markdown",
      "metadata": {
        "id": "HlRfnEkPJfqk"
      },
      "source": [
        "### Get lists of sentences"
      ]
    },
    {
      "cell_type": "code",
      "metadata": {
        "colab": {
          "base_uri": "https://localhost:8080/"
        },
        "id": "6HUD_QV6JuXQ",
        "outputId": "e60eef98-264f-46a9-8d96-1909d2e68333"
      },
      "source": [
        "# Convert abstract text lines into lists\n",
        "train_sentences = train_df['text'].tolist()\n",
        "val_sentences = val_df['text'].tolist()\n",
        "test_sentences = test_df['text'].tolist()\n",
        "len(train_sentences), len(val_sentences), len(test_sentences)"
      ],
      "execution_count": 15,
      "outputs": [
        {
          "output_type": "execute_result",
          "data": {
            "text/plain": [
              "(180040, 30212, 30135)"
            ]
          },
          "metadata": {},
          "execution_count": 15
        }
      ]
    },
    {
      "cell_type": "code",
      "metadata": {
        "colab": {
          "base_uri": "https://localhost:8080/"
        },
        "id": "apNnCulQKBYI",
        "outputId": "db04359e-9f69-4dba-911e-d359154f0cf9"
      },
      "source": [
        "# View the first 10 lines of train sentences\n",
        "train_sentences[:10]"
      ],
      "execution_count": 16,
      "outputs": [
        {
          "output_type": "execute_result",
          "data": {
            "text/plain": [
              "['to investigate the efficacy of @ weeks of daily low-dose oral prednisolone in improving pain , mobility , and systemic low-grade inflammation in the short term and whether the effect would be sustained at @ weeks in older adults with moderate to severe knee osteoarthritis ( oa ) .',\n",
              " 'a total of @ patients with primary knee oa were randomized @:@ ; @ received @ mg/day of prednisolone and @ received placebo for @ weeks .',\n",
              " 'outcome measures included pain reduction and improvement in function scores and systemic inflammation markers .',\n",
              " 'pain was assessed using the visual analog pain scale ( @-@ mm ) .',\n",
              " 'secondary outcome measures included the western ontario and mcmaster universities osteoarthritis index scores , patient global assessment ( pga ) of the severity of knee oa , and @-min walk distance ( @mwd ) .',\n",
              " 'serum levels of interleukin @ ( il-@ ) , il-@ , tumor necrosis factor ( tnf ) - , and high-sensitivity c-reactive protein ( hscrp ) were measured .',\n",
              " 'there was a clinically relevant reduction in the intervention group compared to the placebo group for knee pain , physical function , pga , and @mwd at @ weeks .',\n",
              " 'the mean difference between treatment arms ( @ % ci ) was @ ( @-@ @ ) , p < @ ; @ ( @-@ @ ) , p < @ ; @ ( @-@ @ ) , p < @ ; and @ ( @-@ @ ) , p < @ , respectively .',\n",
              " 'further , there was a clinically relevant reduction in the serum levels of il-@ , il-@ , tnf - , and hscrp at @ weeks in the intervention group when compared to the placebo group .',\n",
              " 'these differences remained significant at @ weeks .']"
            ]
          },
          "metadata": {},
          "execution_count": 16
        }
      ]
    },
    {
      "cell_type": "markdown",
      "metadata": {
        "id": "hd0GtCxnKaj7"
      },
      "source": [
        "## Make numeric labels (for our ML model)"
      ]
    },
    {
      "cell_type": "code",
      "metadata": {
        "colab": {
          "base_uri": "https://localhost:8080/"
        },
        "id": "ozlbUKi7LJOk",
        "outputId": "8572b020-484d-4301-9d8b-ad3effb371d9"
      },
      "source": [
        "# One hot encode labels\n",
        "from sklearn.preprocessing import OneHotEncoder\n",
        "one_hot_encoder = OneHotEncoder(sparse=False) # We want a non-sparse mmetrics\n",
        "train_labels_one_hot = one_hot_encoder.fit_transform(train_df[\"target\"].to_numpy().reshape(-1,1))\n",
        "val_labels_one_hot = one_hot_encoder.transform(val_df['target'].to_numpy().reshape(-1,1))\n",
        "test_labels_one_hot = one_hot_encoder.transform(test_df['target'].to_numpy().reshape(-1,1))\n",
        "test_labels_one_hot"
      ],
      "execution_count": 17,
      "outputs": [
        {
          "output_type": "execute_result",
          "data": {
            "text/plain": [
              "array([[1., 0., 0., 0., 0.],\n",
              "       [0., 0., 0., 0., 1.],\n",
              "       [0., 0., 0., 0., 1.],\n",
              "       ...,\n",
              "       [0., 0., 0., 0., 1.],\n",
              "       [0., 0., 0., 0., 1.],\n",
              "       [0., 1., 0., 0., 0.]])"
            ]
          },
          "metadata": {},
          "execution_count": 17
        }
      ]
    },
    {
      "cell_type": "markdown",
      "metadata": {
        "id": "I9c6JcmGNVMK"
      },
      "source": [
        "## Label encode labels"
      ]
    },
    {
      "cell_type": "code",
      "metadata": {
        "id": "1tIkwPhVLpIL"
      },
      "source": [
        "# Extract labels (\"target\" columns) and encode them into integers\n",
        "from sklearn.preprocessing import LabelEncoder\n",
        "label_encoder = LabelEncoder()\n",
        "train_labels_encoded = label_encoder.fit_transform(train_df['target'].to_numpy())\n",
        "val_labels_encoded = label_encoder.transform(val_df['target'].to_numpy())\n",
        "test_labels_encoded = label_encoder.transform(test_df['target'].to_numpy())\n"
      ],
      "execution_count": 18,
      "outputs": []
    },
    {
      "cell_type": "code",
      "metadata": {
        "colab": {
          "base_uri": "https://localhost:8080/"
        },
        "id": "jVVZp8f2Mdvf",
        "outputId": "829c89ed-789a-47dd-b18c-90a5045dc9f8"
      },
      "source": [
        "# Check what train labels look like\n",
        "train_labels_encoded"
      ],
      "execution_count": 19,
      "outputs": [
        {
          "output_type": "execute_result",
          "data": {
            "text/plain": [
              "array([3, 2, 2, ..., 4, 1, 1])"
            ]
          },
          "metadata": {},
          "execution_count": 19
        }
      ]
    },
    {
      "cell_type": "code",
      "metadata": {
        "colab": {
          "base_uri": "https://localhost:8080/"
        },
        "id": "WdYQQsMnOnvM",
        "outputId": "215ad12b-e8ea-4051-c97e-19e507955cc4"
      },
      "source": [
        "# Get class names and number of classes from LabelEncoder instance\n",
        "num_classes = len(label_encoder.classes_)\n",
        "class_names = label_encoder.classes_\n",
        "num_classes, class_names"
      ],
      "execution_count": 20,
      "outputs": [
        {
          "output_type": "execute_result",
          "data": {
            "text/plain": [
              "(5, array(['BACKGROUND', 'CONCLUSIONS', 'METHODS', 'OBJECTIVE', 'RESULTS'],\n",
              "       dtype=object))"
            ]
          },
          "metadata": {},
          "execution_count": 20
        }
      ]
    },
    {
      "cell_type": "markdown",
      "metadata": {
        "id": "BFqmeCtuYP8g"
      },
      "source": [
        "## Starting a series of modelling experiments"
      ]
    },
    {
      "cell_type": "markdown",
      "metadata": {
        "id": "V2LxFNRoPH_6"
      },
      "source": [
        "## Model 0: Getting a Baseline Model"
      ]
    },
    {
      "cell_type": "code",
      "metadata": {
        "colab": {
          "base_uri": "https://localhost:8080/"
        },
        "id": "S0r4Hg6VYYVs",
        "outputId": "6638a6c4-a403-40ce-8ca9-ac0218432219"
      },
      "source": [
        "from sklearn.feature_extraction.text import TfidfVectorizer\n",
        "from sklearn.naive_bayes import MultinomialNB\n",
        "from sklearn.pipeline import Pipeline\n",
        "\n",
        "# Create a pipeline\n",
        "model_0 = Pipeline([\n",
        "                    (\"tf-idf\", TfidfVectorizer()),\n",
        "                    (\"clf\", MultinomialNB())\n",
        "])\n",
        "\n",
        "# Fit the pipeline to the training data\n",
        "model_0.fit(X=train_sentences,\n",
        "            y=train_labels_encoded)"
      ],
      "execution_count": 21,
      "outputs": [
        {
          "output_type": "execute_result",
          "data": {
            "text/plain": [
              "Pipeline(memory=None,\n",
              "         steps=[('tf-idf',\n",
              "                 TfidfVectorizer(analyzer='word', binary=False,\n",
              "                                 decode_error='strict',\n",
              "                                 dtype=<class 'numpy.float64'>,\n",
              "                                 encoding='utf-8', input='content',\n",
              "                                 lowercase=True, max_df=1.0, max_features=None,\n",
              "                                 min_df=1, ngram_range=(1, 1), norm='l2',\n",
              "                                 preprocessor=None, smooth_idf=True,\n",
              "                                 stop_words=None, strip_accents=None,\n",
              "                                 sublinear_tf=False,\n",
              "                                 token_pattern='(?u)\\\\b\\\\w\\\\w+\\\\b',\n",
              "                                 tokenizer=None, use_idf=True,\n",
              "                                 vocabulary=None)),\n",
              "                ('clf',\n",
              "                 MultinomialNB(alpha=1.0, class_prior=None, fit_prior=True))],\n",
              "         verbose=False)"
            ]
          },
          "metadata": {},
          "execution_count": 21
        }
      ]
    },
    {
      "cell_type": "code",
      "metadata": {
        "colab": {
          "base_uri": "https://localhost:8080/"
        },
        "id": "Ic6L1l0VYiH2",
        "outputId": "f6418e5d-e10a-4b55-ce4f-3a10811fe294"
      },
      "source": [
        "#Evaluate baseline model on validation dataset\n",
        "model_0.score(X=val_sentences,\n",
        "                 y=val_labels_encoded)"
      ],
      "execution_count": 22,
      "outputs": [
        {
          "output_type": "execute_result",
          "data": {
            "text/plain": [
              "0.7218323844829869"
            ]
          },
          "metadata": {},
          "execution_count": 22
        }
      ]
    },
    {
      "cell_type": "code",
      "metadata": {
        "colab": {
          "base_uri": "https://localhost:8080/"
        },
        "id": "3-OtOI7fZ4UL",
        "outputId": "4764e439-99d7-4044-e94e-911bc38a0d15"
      },
      "source": [
        "# Make predictions using baseline model\n",
        "baseline_preds = model_0.predict(val_sentences)\n",
        "baseline_preds"
      ],
      "execution_count": 23,
      "outputs": [
        {
          "output_type": "execute_result",
          "data": {
            "text/plain": [
              "array([4, 1, 3, ..., 4, 4, 1])"
            ]
          },
          "metadata": {},
          "execution_count": 23
        }
      ]
    },
    {
      "cell_type": "markdown",
      "metadata": {
        "id": "LsnCTKHneliu"
      },
      "source": [
        "### Download helper_functions.py"
      ]
    },
    {
      "cell_type": "code",
      "metadata": {
        "colab": {
          "base_uri": "https://localhost:8080/"
        },
        "id": "QQ0mOWDwe4VV",
        "outputId": "ca3c72ae-b04b-495c-9b9f-f686c1721f6d"
      },
      "source": [
        "!wget https://raw.githubusercontent.com/Dimisz/Portfolio/main/Python/DeepLearning/TensorFlow/helper_functions.py"
      ],
      "execution_count": 24,
      "outputs": [
        {
          "output_type": "stream",
          "name": "stdout",
          "text": [
            "--2021-10-20 05:49:38--  https://raw.githubusercontent.com/Dimisz/Portfolio/main/Python/DeepLearning/TensorFlow/helper_functions.py\n",
            "Resolving raw.githubusercontent.com (raw.githubusercontent.com)... 185.199.108.133, 185.199.109.133, 185.199.110.133, ...\n",
            "Connecting to raw.githubusercontent.com (raw.githubusercontent.com)|185.199.108.133|:443... connected.\n",
            "HTTP request sent, awaiting response... 200 OK\n",
            "Length: 10246 (10K) [text/plain]\n",
            "Saving to: ‘helper_functions.py’\n",
            "\n",
            "\rhelper_functions.py   0%[                    ]       0  --.-KB/s               \rhelper_functions.py 100%[===================>]  10.01K  --.-KB/s    in 0s      \n",
            "\n",
            "2021-10-20 05:49:38 (73.1 MB/s) - ‘helper_functions.py’ saved [10246/10246]\n",
            "\n"
          ]
        }
      ]
    },
    {
      "cell_type": "code",
      "metadata": {
        "id": "BGQkFAype8-Y"
      },
      "source": [
        "from helper_functions import calculate_results"
      ],
      "execution_count": 25,
      "outputs": []
    },
    {
      "cell_type": "code",
      "metadata": {
        "colab": {
          "base_uri": "https://localhost:8080/"
        },
        "id": "uC4BO5KbfH89",
        "outputId": "477c23c4-f29e-4ddc-88d4-b56efbc4e99b"
      },
      "source": [
        "# Calculate baseline rresults\n",
        "baseline_results = calculate_results(y_true=val_labels_encoded, \n",
        "                                     y_pred=baseline_preds)\n",
        "baseline_results"
      ],
      "execution_count": 26,
      "outputs": [
        {
          "output_type": "execute_result",
          "data": {
            "text/plain": [
              "{'accuracy': 72.1832384482987,\n",
              " 'f1': 0.6989250353450294,\n",
              " 'precision': 0.7186466952323352,\n",
              " 'recall': 0.7218323844829869}"
            ]
          },
          "metadata": {},
          "execution_count": 26
        }
      ]
    },
    {
      "cell_type": "markdown",
      "metadata": {
        "id": "2yhQykEsfUAm"
      },
      "source": [
        "## Prepare our data (text) for deep sequence models\n",
        "\n",
        "Create vectorization and embedding layers before we start building models"
      ]
    },
    {
      "cell_type": "code",
      "metadata": {
        "id": "fBR2KzBEMIiw"
      },
      "source": [
        "import numpy as np\n",
        "import tensorflow as tf\n",
        "from tensorflow.keras import layers"
      ],
      "execution_count": 27,
      "outputs": []
    },
    {
      "cell_type": "code",
      "metadata": {
        "colab": {
          "base_uri": "https://localhost:8080/"
        },
        "id": "Dsc3fYtEMT5F",
        "outputId": "94999352-ed2f-4e62-dbfe-3a3133939284"
      },
      "source": [
        "#How long is each sentence on average?\n",
        "sent_lens = [len(sentence.split()) for sentence in train_sentences]\n",
        "avg_sent_lens = np.mean(sent_lens)\n",
        "avg_sent_lens"
      ],
      "execution_count": 28,
      "outputs": [
        {
          "output_type": "execute_result",
          "data": {
            "text/plain": [
              "26.338269273494777"
            ]
          },
          "metadata": {},
          "execution_count": 28
        }
      ]
    },
    {
      "cell_type": "code",
      "metadata": {
        "colab": {
          "base_uri": "https://localhost:8080/",
          "height": 401
        },
        "id": "MqJI_6FaMxlf",
        "outputId": "f2e7de51-6217-4667-8037-f3ab5ace13e1"
      },
      "source": [
        "# What's the distribution look like?\n",
        "import matplotlib.pyplot as plt\n",
        "plt.hist(sent_lens, bins=20, edgecolor=\"black\")"
      ],
      "execution_count": 29,
      "outputs": [
        {
          "output_type": "execute_result",
          "data": {
            "text/plain": [
              "(array([4.2075e+04, 8.3771e+04, 3.6877e+04, 1.0945e+04, 3.9310e+03,\n",
              "        1.4450e+03, 5.6000e+02, 2.2600e+02, 1.0100e+02, 4.5000e+01,\n",
              "        2.0000e+01, 1.2000e+01, 9.0000e+00, 1.0000e+01, 6.0000e+00,\n",
              "        2.0000e+00, 3.0000e+00, 0.0000e+00, 1.0000e+00, 1.0000e+00]),\n",
              " array([  1.  ,  15.75,  30.5 ,  45.25,  60.  ,  74.75,  89.5 , 104.25,\n",
              "        119.  , 133.75, 148.5 , 163.25, 178.  , 192.75, 207.5 , 222.25,\n",
              "        237.  , 251.75, 266.5 , 281.25, 296.  ]),\n",
              " <a list of 20 Patch objects>)"
            ]
          },
          "metadata": {},
          "execution_count": 29
        },
        {
          "output_type": "display_data",
          "data": {
            "image/png": "[encoded data removed]",
            "text/plain": [
              "<Figure size 432x288 with 1 Axes>"
            ]
          },
          "metadata": {
            "needs_background": "light"
          }
        }
      ]
    },
    {
      "cell_type": "code",
      "metadata": {
        "colab": {
          "base_uri": "https://localhost:8080/"
        },
        "id": "4UwPkBv6NJf-",
        "outputId": "05743ada-1f2b-4c25-a3fb-c7d3cb5b2e95"
      },
      "source": [
        "# How long of a sentence length covers 95% of example?\n",
        "output_seq_len = int(np.percentile(sent_lens, 95))\n",
        "output_seq_len"
      ],
      "execution_count": 30,
      "outputs": [
        {
          "output_type": "execute_result",
          "data": {
            "text/plain": [
              "55"
            ]
          },
          "metadata": {},
          "execution_count": 30
        }
      ]
    },
    {
      "cell_type": "code",
      "metadata": {
        "colab": {
          "base_uri": "https://localhost:8080/"
        },
        "id": "n1_vYCefNwrE",
        "outputId": "67c92b3c-ae60-47bf-f3c9-4d093021d83f"
      },
      "source": [
        "# Max sequence len\n",
        "max(sent_lens)"
      ],
      "execution_count": 31,
      "outputs": [
        {
          "output_type": "execute_result",
          "data": {
            "text/plain": [
              "296"
            ]
          },
          "metadata": {},
          "execution_count": 31
        }
      ]
    },
    {
      "cell_type": "markdown",
      "metadata": {
        "id": "J99QH3gMN8QB"
      },
      "source": [
        "### Create text vectorizer layer\n",
        "\n",
        "We want to make a layer which maps our texts from words to numbers"
      ]
    },
    {
      "cell_type": "code",
      "metadata": {
        "id": "2HrseTqIOyet"
      },
      "source": [
        "# How many words are in our vocabulary?\n",
        "max_tokens = 68000\n"
      ],
      "execution_count": 32,
      "outputs": []
    },
    {
      "cell_type": "code",
      "metadata": {
        "id": "Sub70hgWPaXX"
      },
      "source": [
        "# Create text vectorizer\n",
        "from tensorflow.keras.layers.experimental.preprocessing import TextVectorization\n",
        "\n",
        "text_vectorizer = TextVectorization(max_tokens=max_tokens, #num words in vocab\n",
        "                                    output_sequence_length=output_seq_len) #desired output length of vectorized seuences"
      ],
      "execution_count": 33,
      "outputs": []
    },
    {
      "cell_type": "code",
      "metadata": {
        "id": "w5Tzomm4QSha"
      },
      "source": [
        "# Adapt TextVectorizer to training sentences\n",
        "text_vectorizer.adapt(train_sentences)"
      ],
      "execution_count": 34,
      "outputs": []
    },
    {
      "cell_type": "code",
      "metadata": {
        "colab": {
          "base_uri": "https://localhost:8080/"
        },
        "id": "RLXovv4MQg7d",
        "outputId": "b9c5554f-b48c-4dca-b9ab-a8da41608449"
      },
      "source": [
        "# Test out text vectorizer on some random sentences\n",
        "import random\n",
        "target_sentence = random.choice(train_sentences)\n",
        "print(f\"Text:\\n{target_sentence}\")\n",
        "print(f\"\\nLength of text:\\n{len(target_sentence)}\")\n",
        "print(f\"\\nVectorized text:\\n{text_vectorizer([target_sentence])}\")\n",
        "print(f\"\\nLength of vectorized text:\\n{len(text_vectorizer([target_sentence])[0])}\")"
      ],
      "execution_count": 35,
      "outputs": [
        {
          "output_type": "stream",
          "name": "stdout",
          "text": [
            "Text:\n",
            "the metaplus study , a randomized , double-blind , multicenter trial , was conducted from february @ through april @ including a @-month follow-up period in @ intensive care units ( icus ) in the netherlands , germany , france , and belgium .\n",
            "\n",
            "Length of text:\n",
            "242\n",
            "\n",
            "Vectorized text:\n",
            "[[    2 52644    17     8    29   236   502    32    10   198    27  1886\n",
            "    313  1441   251     8   178    94   173     5   642    77   937  5908\n",
            "      5     2  2224  3098  5078     3  8980     0     0     0     0     0\n",
            "      0     0     0     0     0     0     0     0     0     0     0     0\n",
            "      0     0     0     0     0     0     0]]\n",
            "\n",
            "Length of vectorized text:\n",
            "55\n"
          ]
        }
      ]
    },
    {
      "cell_type": "code",
      "metadata": {
        "colab": {
          "base_uri": "https://localhost:8080/"
        },
        "id": "f_uGZfP2Rh__",
        "outputId": "22127070-f5a4-4991-fd21-4cb0a93eea19"
      },
      "source": [
        "# How many words in our training vocabulary?\n",
        "rct_20k_text_vocab = text_vectorizer.get_vocabulary()\n",
        "print(f\"Number of words in vocab: {len(rct_20k_text_vocab)}\")\n",
        "\n",
        "# Print out the most common words\n",
        "print(f\"\\nMost common words: {rct_20k_text_vocab[:10]}\")\n",
        "\n",
        "# Print out the least common words\n",
        "print(f\"\\nLeast common words: {rct_20k_text_vocab[-10:]}\")"
      ],
      "execution_count": 36,
      "outputs": [
        {
          "output_type": "stream",
          "name": "stdout",
          "text": [
            "Number of words in vocab: 64841\n",
            "\n",
            "Most common words: ['', '[UNK]', 'the', 'and', 'of', 'in', 'to', 'with', 'a', 'were']\n",
            "\n",
            "Least common words: ['aarm', 'aaqol', 'aaq', 'aanhui', 'aana', 'aainduced', 'aaigroup', 'aachener', 'aachen', 'aaacp']\n"
          ]
        }
      ]
    },
    {
      "cell_type": "code",
      "metadata": {
        "colab": {
          "base_uri": "https://localhost:8080/"
        },
        "id": "P3xYVeq5Sxyf",
        "outputId": "e64fc96e-c01a-4496-b897-b616b63efcd4"
      },
      "source": [
        "# Get the config of our text vectorizer\n",
        "text_vectorizer.get_config()"
      ],
      "execution_count": 37,
      "outputs": [
        {
          "output_type": "execute_result",
          "data": {
            "text/plain": [
              "{'batch_input_shape': (None,),\n",
              " 'dtype': 'string',\n",
              " 'max_tokens': 68000,\n",
              " 'name': 'text_vectorization',\n",
              " 'ngrams': None,\n",
              " 'output_mode': 'int',\n",
              " 'output_sequence_length': 55,\n",
              " 'pad_to_max_tokens': False,\n",
              " 'split': 'whitespace',\n",
              " 'standardize': 'lower_and_strip_punctuation',\n",
              " 'trainable': True}"
            ]
          },
          "metadata": {},
          "execution_count": 37
        }
      ]
    },
    {
      "cell_type": "markdown",
      "metadata": {
        "id": "jSocPQdITz90"
      },
      "source": [
        "### Create custom text embedding"
      ]
    },
    {
      "cell_type": "code",
      "metadata": {
        "id": "kQ2_LcsOYWzU"
      },
      "source": [
        "# Create token embedding layer\n",
        "token_embed = layers.Embedding(input_dim=len(rct_20k_text_vocab),\n",
        "                               output_dim=128,\n",
        "                               mask_zero=True,\n",
        "                               name=\"token_embedding\")"
      ],
      "execution_count": 38,
      "outputs": []
    },
    {
      "cell_type": "code",
      "metadata": {
        "colab": {
          "base_uri": "https://localhost:8080/"
        },
        "id": "TVIXXI98Zdfw",
        "outputId": "38ddcd5b-049a-448e-facf-649a6cd12cfa"
      },
      "source": [
        "# Show an example embedding\n",
        "print(f\"Sentence before vectorization:\\n {target_sentence}\\n\")\n",
        "vectorized_sentence = text_vectorizer([target_sentence])\n",
        "print(f\"Sentence after vectorization: \\n {vectorized_sentence}\\n\")\n",
        "embedded_sentence = token_embed(vectorized_sentence)\n",
        "print(f\"Sentence after embedding:\\n{embedded_sentence}\\n\")\n",
        "print(f\"Embedded sentence shape: {embedded_sentence.shape}\")\n"
      ],
      "execution_count": 39,
      "outputs": [
        {
          "output_type": "stream",
          "name": "stdout",
          "text": [
            "Sentence before vectorization:\n",
            " the metaplus study , a randomized , double-blind , multicenter trial , was conducted from february @ through april @ including a @-month follow-up period in @ intensive care units ( icus ) in the netherlands , germany , france , and belgium .\n",
            "\n",
            "Sentence after vectorization: \n",
            " [[    2 52644    17     8    29   236   502    32    10   198    27  1886\n",
            "    313  1441   251     8   178    94   173     5   642    77   937  5908\n",
            "      5     2  2224  3098  5078     3  8980     0     0     0     0     0\n",
            "      0     0     0     0     0     0     0     0     0     0     0     0\n",
            "      0     0     0     0     0     0     0]]\n",
            "\n",
            "Sentence after embedding:\n",
            "[[[-0.04741837 -0.02296457 -0.0211184  ...  0.00855349  0.00842365\n",
            "    0.03429865]\n",
            "  [ 0.03979578 -0.00815583  0.0277863  ... -0.01176033  0.02003122\n",
            "    0.01441712]\n",
            "  [-0.00340016 -0.02528237 -0.03876944 ...  0.0350935  -0.01489475\n",
            "    0.01481618]\n",
            "  ...\n",
            "  [ 0.03671317  0.02875577  0.0465809  ... -0.02946745  0.02171526\n",
            "    0.0493685 ]\n",
            "  [ 0.03671317  0.02875577  0.0465809  ... -0.02946745  0.02171526\n",
            "    0.0493685 ]\n",
            "  [ 0.03671317  0.02875577  0.0465809  ... -0.02946745  0.02171526\n",
            "    0.0493685 ]]]\n",
            "\n",
            "Embedded sentence shape: (1, 55, 128)\n"
          ]
        }
      ]
    },
    {
      "cell_type": "markdown",
      "metadata": {
        "id": "z_d43xxPaPq4"
      },
      "source": [
        "## Creating datasets (making sure our data loads as fast as possible)\n",
        "\n",
        "For this purpose we are going to use `tf.data API`. Check the resources:\n",
        "* https://www.tensorflow.org/guide/data_performance\n",
        "* https://www.tensorflow.org/guide/data"
      ]
    },
    {
      "cell_type": "code",
      "metadata": {
        "colab": {
          "base_uri": "https://localhost:8080/"
        },
        "id": "3EN-R8cVbb8q",
        "outputId": "6ec96fc5-d558-4aaa-fba7-ee388f703cdc"
      },
      "source": [
        "# Turn our data into TF datasets\n",
        "train_dataset = tf.data.Dataset.from_tensor_slices((train_sentences, train_labels_one_hot))\n",
        "valid_dataset = tf.data.Dataset.from_tensor_slices((val_sentences, val_labels_one_hot))\n",
        "test_dataset = tf.data.Dataset.from_tensor_slices((test_sentences, test_labels_one_hot))\n",
        "\n",
        "train_dataset"
      ],
      "execution_count": 40,
      "outputs": [
        {
          "output_type": "execute_result",
          "data": {
            "text/plain": [
              "<TensorSliceDataset shapes: ((), (5,)), types: (tf.string, tf.float64)>"
            ]
          },
          "metadata": {},
          "execution_count": 40
        }
      ]
    },
    {
      "cell_type": "code",
      "metadata": {
        "colab": {
          "base_uri": "https://localhost:8080/"
        },
        "id": "88uSLPeHczYS",
        "outputId": "bbcdde1d-9506-476e-97e3-cbe2beca04dd"
      },
      "source": [
        "# Take the TensorSliceDataset's and turn them into prefetched datasets\n",
        "train_dataset = train_dataset.batch(32).prefetch(tf.data.AUTOTUNE)\n",
        "valid_dataset = valid_dataset.batch(32).prefetch(tf.data.AUTOTUNE)\n",
        "test_dataset = test_dataset.batch(32).prefetch(tf.data.AUTOTUNE)\n",
        "\n",
        "train_dataset"
      ],
      "execution_count": 41,
      "outputs": [
        {
          "output_type": "execute_result",
          "data": {
            "text/plain": [
              "<PrefetchDataset shapes: ((None,), (None, 5)), types: (tf.string, tf.float64)>"
            ]
          },
          "metadata": {},
          "execution_count": 41
        }
      ]
    },
    {
      "cell_type": "markdown",
      "metadata": {
        "id": "TElpL2b5eUii"
      },
      "source": [
        "## Model 1: Conv1D with token embeddings"
      ]
    },
    {
      "cell_type": "code",
      "metadata": {
        "id": "by-zRNy5gw5D"
      },
      "source": [
        "inputs = layers.Input(shape=(1,), dtype=tf.string)\n",
        "text_vectors = text_vectorizer(inputs) # vectorize text inputs\n",
        "token_embeddings = token_embed(text_vectors) # Create embedding\n",
        "x = layers.Conv1D(64, kernel_size=5, padding=\"same\", activation=\"relu\")(token_embeddings)\n",
        "x = layers.GlobalAveragePooling1D()(x) #condense the output of our feature conv layer\n",
        "outputs = layers.Dense(num_classes, activation=\"softmax\")(x)\n",
        "model_1 = tf.keras.Model(inputs, outputs)\n",
        "\n",
        "# Commpile\n",
        "model_1.compile(loss=\"categorical_crossentropy\",\n",
        "                optimizer=tf.keras.optimizers.Adam(),\n",
        "                metrics=['accuracy'])"
      ],
      "execution_count": 42,
      "outputs": []
    },
    {
      "cell_type": "code",
      "metadata": {
        "colab": {
          "base_uri": "https://localhost:8080/"
        },
        "id": "W1TKq67wicmB",
        "outputId": "60cc2704-6dd8-4655-f66e-fb8b32d5db7c"
      },
      "source": [
        "model_1.summary()"
      ],
      "execution_count": 43,
      "outputs": [
        {
          "output_type": "stream",
          "name": "stdout",
          "text": [
            "Model: \"model\"\n",
            "_________________________________________________________________\n",
            "Layer (type)                 Output Shape              Param #   \n",
            "=================================================================\n",
            "input_1 (InputLayer)         [(None, 1)]               0         \n",
            "_________________________________________________________________\n",
            "text_vectorization (TextVect (None, 55)                0         \n",
            "_________________________________________________________________\n",
            "token_embedding (Embedding)  (None, 55, 128)           8299648   \n",
            "_________________________________________________________________\n",
            "conv1d (Conv1D)              (None, 55, 64)            41024     \n",
            "_________________________________________________________________\n",
            "global_average_pooling1d (Gl (None, 64)                0         \n",
            "_________________________________________________________________\n",
            "dense (Dense)                (None, 5)                 325       \n",
            "=================================================================\n",
            "Total params: 8,340,997\n",
            "Trainable params: 8,340,997\n",
            "Non-trainable params: 0\n",
            "_________________________________________________________________\n"
          ]
        }
      ]
    },
    {
      "cell_type": "code",
      "metadata": {
        "colab": {
          "base_uri": "https://localhost:8080/"
        },
        "id": "Rvfv4uGqie4e",
        "outputId": "b7020c03-fd4a-4c7c-b1cb-1a3d1ab77d9b"
      },
      "source": [
        "# Fit the model\n",
        "history_model_1 = model_1.fit(train_dataset, \n",
        "                              steps_per_epoch=int(0.1*len(train_dataset)),\n",
        "                              epochs=3,\n",
        "                              validation_data=valid_dataset,\n",
        "                              validation_steps=int(0.1*len(valid_dataset)))"
      ],
      "execution_count": 44,
      "outputs": [
        {
          "output_type": "stream",
          "name": "stdout",
          "text": [
            "Epoch 1/3\n",
            "562/562 [==============================] - 67s 117ms/step - loss: 0.9243 - accuracy: 0.6345 - val_loss: 0.6851 - val_accuracy: 0.7377\n",
            "Epoch 2/3\n",
            "562/562 [==============================] - 66s 117ms/step - loss: 0.6534 - accuracy: 0.7593 - val_loss: 0.6276 - val_accuracy: 0.7729\n",
            "Epoch 3/3\n",
            "562/562 [==============================] - 66s 117ms/step - loss: 0.6121 - accuracy: 0.7771 - val_loss: 0.5915 - val_accuracy: 0.7892\n"
          ]
        }
      ]
    },
    {
      "cell_type": "code",
      "metadata": {
        "colab": {
          "base_uri": "https://localhost:8080/"
        },
        "id": "kGpvQP6fjhRr",
        "outputId": "2c0d1854-cc25-4fa7-8934-5b2d9ceb34b0"
      },
      "source": [
        "# Evaluate on whole validation dataset\n",
        "model_1.evaluate(valid_dataset)"
      ],
      "execution_count": 45,
      "outputs": [
        {
          "output_type": "stream",
          "name": "stdout",
          "text": [
            "945/945 [==============================] - 5s 5ms/step - loss: 0.5928 - accuracy: 0.7880\n"
          ]
        },
        {
          "output_type": "execute_result",
          "data": {
            "text/plain": [
              "[0.5928229689598083, 0.7880312204360962]"
            ]
          },
          "metadata": {},
          "execution_count": 45
        }
      ]
    },
    {
      "cell_type": "code",
      "metadata": {
        "colab": {
          "base_uri": "https://localhost:8080/"
        },
        "id": "mYuJ9MwQkNZP",
        "outputId": "484e455c-bb26-4613-f343-9cd97e9b05e6"
      },
      "source": [
        "# Make predictions (probabilities for each class)\n",
        "model_1_pred_probs = model_1.predict(valid_dataset)\n",
        "model_1_pred_probs, model_1_pred_probs.shape"
      ],
      "execution_count": 46,
      "outputs": [
        {
          "output_type": "execute_result",
          "data": {
            "text/plain": [
              "(array([[4.2667419e-01, 1.7806241e-01, 8.1395589e-02, 2.8151989e-01,\n",
              "         3.2348022e-02],\n",
              "        [4.3223202e-01, 2.8500777e-01, 1.4116358e-02, 2.5791505e-01,\n",
              "         1.0728816e-02],\n",
              "        [1.4890577e-01, 7.3289364e-03, 1.8805884e-03, 8.4180593e-01,\n",
              "         7.8796307e-05],\n",
              "        ...,\n",
              "        [7.0148885e-06, 6.9632370e-04, 7.5609836e-04, 4.6067544e-06,\n",
              "         9.9853599e-01],\n",
              "        [6.4258516e-02, 4.7980723e-01, 9.0267897e-02, 7.4907094e-02,\n",
              "         2.9075921e-01],\n",
              "        [1.6276516e-01, 7.2825235e-01, 5.2347157e-02, 2.6796756e-02,\n",
              "         2.9838515e-02]], dtype=float32), (30212, 5))"
            ]
          },
          "metadata": {},
          "execution_count": 46
        }
      ]
    },
    {
      "cell_type": "code",
      "metadata": {
        "colab": {
          "base_uri": "https://localhost:8080/"
        },
        "id": "Eqh3oaLXkfhF",
        "outputId": "454ab0f7-5463-41b7-d1d9-48d4bb3b16e6"
      },
      "source": [
        "# Convert pred_probs to classes\n",
        "model_1_preds = tf.argmax(model_1_pred_probs, axis=1)\n",
        "model_1_preds"
      ],
      "execution_count": 47,
      "outputs": [
        {
          "output_type": "execute_result",
          "data": {
            "text/plain": [
              "<tf.Tensor: shape=(30212,), dtype=int64, numpy=array([0, 0, 3, ..., 4, 1, 1])>"
            ]
          },
          "metadata": {},
          "execution_count": 47
        }
      ]
    },
    {
      "cell_type": "code",
      "metadata": {
        "colab": {
          "base_uri": "https://localhost:8080/"
        },
        "id": "YfvI1FkQk5zx",
        "outputId": "83450ebd-f2a5-4d68-c37d-e036e31dc354"
      },
      "source": [
        "# Calculate model_1 results\n",
        "model_1_results = calculate_results(y_true=val_labels_encoded,\n",
        "                                    y_pred=model_1_preds)\n",
        "model_1_results"
      ],
      "execution_count": 48,
      "outputs": [
        {
          "output_type": "execute_result",
          "data": {
            "text/plain": [
              "{'accuracy': 78.80312458625711,\n",
              " 'f1': 0.785803867741174,\n",
              " 'precision': 0.7850132739025757,\n",
              " 'recall': 0.7880312458625711}"
            ]
          },
          "metadata": {},
          "execution_count": 48
        }
      ]
    },
    {
      "cell_type": "code",
      "metadata": {
        "colab": {
          "base_uri": "https://localhost:8080/"
        },
        "id": "03-9x7C4lWIY",
        "outputId": "c7197449-956e-4f18-a8ec-e4cd6d7bbeb8"
      },
      "source": [
        "baseline_results"
      ],
      "execution_count": 49,
      "outputs": [
        {
          "output_type": "execute_result",
          "data": {
            "text/plain": [
              "{'accuracy': 72.1832384482987,\n",
              " 'f1': 0.6989250353450294,\n",
              " 'precision': 0.7186466952323352,\n",
              " 'recall': 0.7218323844829869}"
            ]
          },
          "metadata": {},
          "execution_count": 49
        }
      ]
    },
    {
      "cell_type": "markdown",
      "metadata": {
        "id": "YJjcDQb6lbIs"
      },
      "source": [
        "## Model 2: Feature Extraction with pretrained token embeddings\n",
        "\n",
        "Let's use pretrained word embeddings from TF hub, more speccifically, the universal sentence encoder:\n",
        "https://tfhub.dev/google/universal-sentence-encoder/4\n",
        "\n",
        "The paper originally used GloVe embeddings, but we are going to USE embeddings."
      ]
    },
    {
      "cell_type": "code",
      "metadata": {
        "id": "p1Ea3IkgkGPc"
      },
      "source": [
        "# Download pretrained Tendorflow Hub USE\n",
        "import tensorflow_hub as hub\n",
        "tf_hub_embedding_layer = hub.KerasLayer(\"https://tfhub.dev/google/universal-sentence-encoder/4\",\n",
        "                                        trainable=False,\n",
        "                                        name=\"universal_sentence_encoder\")"
      ],
      "execution_count": 50,
      "outputs": []
    },
    {
      "cell_type": "code",
      "metadata": {
        "colab": {
          "base_uri": "https://localhost:8080/"
        },
        "id": "L_TECalLmb9O",
        "outputId": "b6f57d97-b569-4ca7-fee8-c7960cd8b530"
      },
      "source": [
        "# Test out the pretrained embedding on a random sentence\n",
        "\n",
        "random_train_sentence = random.choice(train_sentences)\n",
        "print(f\"Random sentence:\\n {random_train_sentence}\")\n",
        "use_embedded_sentence = tf_hub_embedding_layer([random_train_sentence])\n",
        "print(f\"Sentence after embedding:\\n{use_embedded_sentence}\")\n",
        "print(len(use_embedded_sentence[0]))"
      ],
      "execution_count": 51,
      "outputs": [
        {
          "output_type": "stream",
          "name": "stdout",
          "text": [
            "Random sentence:\n",
            " complete clinical clearance at @ weeks occurred in @ of @ patients ( @ % ; @ % ci , @ % -@ % ) with placebo ; @ of @ ( @ % ; @ % ci , @ % -@ % ) with low-dose treatment ; @ of @ ( @ % ; @ % ci , @ % -@ % ) with middle-dose treatment ; and @ of @ ( @ % ; @ % ci , @ % -@ % ) with high-dose treatment ( p = @ ) .\n",
            "Sentence after embedding:\n",
            "[[-7.05246553e-02 -3.78237083e-03 -1.10630663e-02 -7.00101331e-02\n",
            "   2.64156107e-02 -5.44235148e-02  2.84702936e-03 -4.83582243e-02\n",
            "   1.88419521e-02 -1.41030317e-02  8.93636346e-02 -3.74159962e-02\n",
            "   1.35392416e-04 -1.74410809e-02  3.31442691e-02  4.94834967e-02\n",
            "  -9.09868404e-02  3.35937808e-03 -1.45091992e-02  8.12578108e-03\n",
            "   2.72983667e-02  8.65223352e-04  1.61661096e-02 -7.46826157e-02\n",
            "  -3.66280340e-02 -1.79521795e-02 -1.01835709e-02 -5.96299767e-02\n",
            "  -5.06080035e-03  6.96022436e-02  3.37797888e-02  9.10390615e-02\n",
            "   4.10709716e-02  5.04260845e-02 -1.51710864e-02  3.66159938e-02\n",
            "  -4.95247310e-03 -3.44425179e-02 -5.02809137e-02 -8.00351873e-02\n",
            "  -1.61313545e-02  2.93671992e-02  9.93290171e-03 -7.37241097e-03\n",
            "   5.15398309e-02  6.63646832e-02  2.90082814e-03  4.79765683e-02\n",
            "  -1.20664285e-02  6.78621307e-02  1.40048843e-02  1.60488673e-03\n",
            "  -4.97724228e-02  2.84511521e-02  4.36112750e-03 -5.56553900e-02\n",
            "  -2.87721884e-02  5.96353114e-02  3.79201323e-02  2.24311873e-02\n",
            "   4.93773771e-03 -8.24730750e-03  4.20313552e-02  4.31123972e-02\n",
            "   1.16271880e-02  1.57812275e-02  3.98797430e-02 -1.78299267e-02\n",
            "  -6.93820417e-02  6.08316530e-03  2.26994604e-02 -5.58234937e-02\n",
            "  -4.53101210e-02 -4.70755063e-02 -1.71941165e-02 -7.05109909e-02\n",
            "   5.07809594e-02  2.19304487e-02 -6.57792166e-02  1.98869128e-02\n",
            "   3.77133936e-02 -6.62976457e-03  4.76470124e-03  1.81193445e-02\n",
            "   4.12140451e-02 -2.42023189e-02 -7.13162869e-02  3.23038027e-02\n",
            "  -2.55734082e-02 -8.48911610e-03  2.36066300e-02  2.75483690e-02\n",
            "  -1.01283542e-03 -7.38970116e-02  3.28214578e-02  1.75119322e-02\n",
            "  -1.90942977e-02 -2.41548344e-02 -5.55509627e-02 -3.48425470e-02\n",
            "  -7.54423533e-03 -8.22882876e-02  5.94008937e-02 -2.60396022e-02\n",
            "   2.08853912e-02 -4.65783738e-02  9.88120679e-03  8.82301666e-03\n",
            "  -1.99356973e-02  2.19576936e-02  1.96980555e-02 -1.62284530e-03\n",
            "   1.85751580e-02 -1.53170561e-03 -7.17723276e-03  2.59685759e-02\n",
            "   7.41526950e-03 -5.55020683e-02  4.68720682e-02 -1.34582156e-02\n",
            "  -4.54944745e-02  4.03665863e-02  6.68371916e-02  5.84174041e-03\n",
            "   5.42863719e-02 -5.21308817e-02 -6.46811798e-02 -1.48561811e-02\n",
            "  -4.92711812e-02 -4.56754938e-02 -2.04016380e-02  9.09797773e-02\n",
            "   7.59735852e-02 -4.47696038e-02 -3.63267050e-03 -2.69039478e-02\n",
            "  -5.91673981e-03 -2.64247116e-02 -2.69854087e-02  2.97635645e-02\n",
            "   8.76663253e-03  8.99003372e-02 -4.78369556e-02 -2.23039333e-02\n",
            "  -1.09333629e-02 -3.18258777e-02 -2.93244384e-02  3.06625813e-02\n",
            "   4.85869944e-02 -4.15197611e-02  2.80983690e-02 -6.67708293e-02\n",
            "   1.47629175e-02  7.02227140e-03  6.01187050e-02 -4.80849855e-02\n",
            "   5.36291115e-02  8.14661160e-02  4.02603783e-02  6.90859836e-03\n",
            "  -5.58410101e-02  6.77135289e-02 -3.35751586e-02  6.27989471e-02\n",
            "  -5.91463293e-04  8.51759873e-03  1.90390125e-02  2.15261076e-02\n",
            "   4.64604162e-02  5.66526353e-02 -7.12298602e-02 -8.94049853e-02\n",
            "  -4.58190329e-02  2.21519358e-02  1.08822749e-03 -5.56467921e-02\n",
            "   4.76406030e-02  2.60836240e-02  6.99134991e-02  8.61996412e-03\n",
            "  -5.77527322e-02  2.42793355e-02  6.48115948e-02  7.44843334e-02\n",
            "   5.46213659e-03  1.27896750e-02  1.58649590e-02  6.81946473e-03\n",
            "   2.07865071e-02 -4.54039220e-03 -6.06080890e-02  9.89970565e-03\n",
            "  -3.40367556e-02  3.00429352e-02  5.24747148e-02  5.98269999e-02\n",
            "  -3.30067128e-02 -2.87056286e-02 -5.27649093e-03 -2.86198929e-02\n",
            "  -5.35731949e-02  2.77189608e-03  3.57920602e-02  4.43992428e-02\n",
            "   2.96910033e-02  2.17995271e-02 -4.53816578e-02 -4.57872897e-02\n",
            "  -6.79970458e-02  4.89758588e-02 -1.53427431e-02  3.95342968e-02\n",
            "  -1.35526918e-02  2.30242368e-02 -6.91227540e-02  3.77750322e-02\n",
            "   4.30124588e-02  4.89108376e-02 -4.58100364e-02  5.33423983e-02\n",
            "  -7.83198625e-02  2.41226424e-02  4.22085598e-02 -3.38154733e-02\n",
            "   6.51398823e-02  7.27121904e-02  4.93830128e-04 -3.90667543e-02\n",
            "  -6.75189793e-02  1.35938283e-02  3.05848606e-02  2.66092177e-02\n",
            "   2.85443272e-02 -4.57633436e-02  2.97452807e-02 -7.24487901e-02\n",
            "   2.84373853e-02  2.47423723e-02 -2.45927442e-02  3.19188237e-02\n",
            "  -4.18782420e-02  3.61050144e-02 -1.54317608e-02  6.52063696e-04\n",
            "   1.96335670e-02 -3.33586000e-02 -8.17481205e-02 -2.20597498e-02\n",
            "   7.27141201e-02 -8.89306217e-02  4.75656278e-02  2.11116113e-02\n",
            "  -3.75494659e-02  9.70317400e-04  6.50264025e-02  2.01331433e-02\n",
            "  -5.60801551e-02  8.21740255e-02 -5.99213243e-02 -1.96453184e-02\n",
            "   1.70402508e-02 -3.92420357e-03 -1.68422721e-02 -3.35267745e-03\n",
            "   8.00711960e-02 -1.48671884e-02 -5.48523925e-02  3.86670977e-02\n",
            "  -4.73278202e-02  5.50154746e-02  2.99632512e-02  4.68395203e-02\n",
            "   2.18200348e-02 -9.05552506e-02 -1.15658799e-02 -1.69102252e-02\n",
            "  -2.95927487e-02  8.36594772e-05 -5.03486348e-03 -4.75025317e-03\n",
            "   1.10908262e-02  1.66604191e-03  4.52199765e-02 -5.85853159e-02\n",
            "  -7.76463822e-02 -4.42202855e-03  4.99208197e-02 -1.08106360e-02\n",
            "   3.76189165e-02 -3.58083984e-03 -8.02878290e-02 -4.32247110e-02\n",
            "  -4.69372608e-02 -6.06113896e-02  3.80994491e-02 -6.63425177e-02\n",
            "  -5.66992238e-02 -4.50590700e-02  5.35940304e-02  3.97861004e-02\n",
            "   1.92553811e-02 -1.75995212e-02 -7.04623759e-03 -8.03602785e-02\n",
            "  -6.46248832e-02 -1.13601303e-02  1.80725008e-02 -1.23826088e-02\n",
            "   1.07587082e-02  6.15313984e-02 -7.49882758e-02 -5.06092831e-02\n",
            "   3.69300544e-02  5.56403510e-02  7.91705847e-02 -2.57069943e-03\n",
            "   1.59469377e-02  2.55989339e-02 -1.61107779e-02  2.31664721e-02\n",
            "  -5.97554483e-02 -6.20557331e-02  7.12228715e-02  3.91057730e-02\n",
            "  -5.66878021e-02  6.65758620e-04 -6.01905026e-02 -7.17004389e-02\n",
            "   6.70861229e-02 -4.63272482e-02  7.27217048e-02 -8.31173286e-02\n",
            "   5.70414662e-02  3.71024311e-02 -1.37409121e-02  1.72620714e-02\n",
            "  -5.29423989e-02 -9.16151702e-03 -4.29759361e-02 -8.90966691e-03\n",
            "  -2.35871505e-03 -3.98539752e-02  8.60683694e-02  8.27937275e-02\n",
            "   1.83957983e-02  5.65314945e-03 -3.13874707e-02 -1.89810209e-02\n",
            "   3.41273993e-02 -2.48017572e-02  6.70007765e-02 -4.90027778e-02\n",
            "  -2.52982210e-02  2.78805587e-02  2.25755647e-02 -3.99488397e-02\n",
            "  -5.18747345e-02 -2.06557140e-02  6.01840653e-02 -2.85689812e-02\n",
            "   1.63035337e-02  4.21042070e-02 -5.31623289e-02 -6.58243075e-02\n",
            "   5.24523370e-02  6.22267649e-02  3.08263097e-02  1.95598248e-02\n",
            "  -4.76251841e-02 -4.25636629e-03  6.49922639e-02  3.03380247e-02\n",
            "   6.66038767e-02  4.69109714e-02  5.79872318e-02  3.76548618e-02\n",
            "   5.57114668e-02 -5.93207367e-02  3.58996093e-02 -3.81131582e-02\n",
            "   8.37332197e-03 -2.64136083e-02 -6.16131090e-02  3.60335372e-02\n",
            "   1.98774002e-02 -2.17052754e-02 -4.17189673e-02 -2.37768665e-02\n",
            "   7.78872073e-02  7.26310723e-03 -8.12268071e-03  3.47123817e-02\n",
            "  -5.92510439e-02 -1.86140481e-02  4.17684950e-02 -6.22496381e-02\n",
            "   8.17320570e-02 -6.59366399e-02  5.46186827e-02 -2.43398715e-02\n",
            "   8.61483812e-02  4.57201265e-02 -5.27714007e-02 -2.38352586e-02\n",
            "   2.48013176e-02 -5.04110232e-02  5.36312982e-02 -5.89419715e-03\n",
            "   6.53985366e-02  5.91642819e-02 -7.09462259e-03 -1.59872696e-02\n",
            "   4.81467135e-03  4.83833291e-02 -3.41856070e-02 -7.33062401e-02\n",
            "  -3.09784301e-02 -3.85234095e-02 -1.43597312e-02 -4.06606533e-02\n",
            "  -4.34743613e-02 -5.53240888e-02  4.20018211e-02  4.97478954e-02\n",
            "  -5.25870943e-04 -3.20022777e-02 -5.00064380e-02 -6.23281719e-03\n",
            "  -3.02285682e-02 -1.92171324e-03 -8.80826563e-02 -7.70193338e-02\n",
            "  -3.75317112e-02  7.35953674e-02 -1.00607360e-02 -3.97391804e-02\n",
            "  -2.87444610e-03 -4.00641374e-02  3.21807191e-02  5.03406860e-04\n",
            "   2.16985326e-02 -4.82092462e-02  3.25944833e-02  3.35007198e-02\n",
            "  -1.00821396e-03 -1.87359229e-02 -7.61615187e-02 -2.66938750e-03\n",
            "  -4.64584976e-02  7.70641416e-02 -3.32709216e-02  4.82637202e-03\n",
            "   3.34768295e-02  6.20193705e-02  3.92525420e-02 -5.21538816e-02\n",
            "   6.57790080e-02  4.99092881e-03  1.67030026e-03  2.70958114e-02\n",
            "   6.26684949e-02  1.94985718e-02  4.40928452e-02 -4.21028510e-02\n",
            "   2.69206073e-02  2.23999680e-03 -6.95798695e-02 -2.11972054e-02\n",
            "  -7.65328109e-03 -3.34138907e-02  6.33136854e-02  3.93530056e-02\n",
            "  -7.56114051e-02 -3.70622948e-02  7.42736757e-02  4.16597165e-02\n",
            "   5.21071069e-02 -2.90948269e-03 -3.88838053e-02  6.88734353e-02\n",
            "  -5.73213659e-02  1.88784953e-02  3.73629257e-02 -2.90014371e-02\n",
            "   2.58043688e-02 -5.82106262e-02 -3.42763253e-02 -8.36769640e-02\n",
            "  -3.88810858e-02 -2.99067795e-02  4.82600331e-02  3.02878413e-02\n",
            "   7.25796968e-02 -5.50462045e-02  4.62584943e-02  2.44451594e-02\n",
            "   7.04093650e-02  3.20906453e-02  5.64972274e-02  6.42158166e-02\n",
            "  -4.14490327e-02 -6.80477172e-02 -2.53846105e-02 -8.44124481e-02\n",
            "   4.71188575e-02 -9.09929350e-02 -4.87218238e-02 -1.59831047e-02\n",
            "   5.91949411e-02  3.25314812e-02 -5.67815453e-02 -3.03373467e-02]]\n",
            "512\n"
          ]
        }
      ]
    },
    {
      "cell_type": "markdown",
      "metadata": {
        "id": "-2SKPM-bnRYI"
      },
      "source": [
        "### Building and fitting an NLP feature extraction model using pretrained embeddings TF Hub"
      ]
    },
    {
      "cell_type": "code",
      "metadata": {
        "id": "qb96RLy6oUFJ"
      },
      "source": [
        "# Define feature extraction model using TF Hub layer\n",
        "inputs = layers.Input(shape=[], dtype=tf.string)\n",
        "pretrained_embedding = tf_hub_embedding_layer(inputs) # tokenize text and create embedding of each sequence (512 long vector)\n",
        "x = layers.Dense(128, activation=\"relu\")(pretrained_embedding)\n",
        "# Note: could add more layers if you wanted to\n",
        "outputs = layers.Dense(5, activation=\"softmax\")(x) #create the output layer\n",
        "\n",
        "model_2 = tf.keras.Model(inputs=inputs,\n",
        "                         outputs=outputs,\n",
        "                         name=\"model_2_USE_feature_extractor\")\n",
        "\n",
        "\n",
        "#Compile the model\n",
        "model_2.compile(loss=tf.keras.losses.CategoricalCrossentropy(),\n",
        "                optimizer=tf.keras.optimizers.Adam(),\n",
        "                metrics=['accuracy'])"
      ],
      "execution_count": 52,
      "outputs": []
    },
    {
      "cell_type": "code",
      "metadata": {
        "colab": {
          "base_uri": "https://localhost:8080/"
        },
        "id": "-6QgeAgop6pN",
        "outputId": "a18a278e-b114-484e-c5c6-c2d42c5c2323"
      },
      "source": [
        "model_2.summary()"
      ],
      "execution_count": 53,
      "outputs": [
        {
          "output_type": "stream",
          "name": "stdout",
          "text": [
            "Model: \"model_2_USE_feature_extractor\"\n",
            "_________________________________________________________________\n",
            "Layer (type)                 Output Shape              Param #   \n",
            "=================================================================\n",
            "input_2 (InputLayer)         [(None,)]                 0         \n",
            "_________________________________________________________________\n",
            "universal_sentence_encoder ( (None, 512)               256797824 \n",
            "_________________________________________________________________\n",
            "dense_1 (Dense)              (None, 128)               65664     \n",
            "_________________________________________________________________\n",
            "dense_2 (Dense)              (None, 5)                 645       \n",
            "=================================================================\n",
            "Total params: 256,864,133\n",
            "Trainable params: 66,309\n",
            "Non-trainable params: 256,797,824\n",
            "_________________________________________________________________\n"
          ]
        }
      ]
    },
    {
      "cell_type": "code",
      "metadata": {
        "colab": {
          "base_uri": "https://localhost:8080/"
        },
        "id": "Pr0YyMgAqB6e",
        "outputId": "5d058d78-d1db-4c3e-ee15-4cd427673fe8"
      },
      "source": [
        "# Fit model_2 to the data\n",
        "history_model_2 = model_2.fit(train_dataset,\n",
        "                              epochs=3,\n",
        "                              steps_per_epoch=int(0.1*len(train_dataset)),\n",
        "                              validation_data=valid_dataset,\n",
        "                              validation_steps=int(0.1*len(valid_dataset)))"
      ],
      "execution_count": 54,
      "outputs": [
        {
          "output_type": "stream",
          "name": "stdout",
          "text": [
            "Epoch 1/3\n",
            "562/562 [==============================] - 10s 13ms/step - loss: 0.9149 - accuracy: 0.6525 - val_loss: 0.7964 - val_accuracy: 0.6912\n",
            "Epoch 2/3\n",
            "562/562 [==============================] - 7s 12ms/step - loss: 0.7685 - accuracy: 0.7020 - val_loss: 0.7545 - val_accuracy: 0.7064\n",
            "Epoch 3/3\n",
            "562/562 [==============================] - 7s 13ms/step - loss: 0.7509 - accuracy: 0.7124 - val_loss: 0.7370 - val_accuracy: 0.7138\n"
          ]
        }
      ]
    },
    {
      "cell_type": "code",
      "metadata": {
        "colab": {
          "base_uri": "https://localhost:8080/"
        },
        "id": "era1ZCs5tq1p",
        "outputId": "2445833a-88ff-45bc-ad4c-156b50a0bac4"
      },
      "source": [
        "# Evaluate on the whole validation dataset\n",
        "model_2.evaluate(valid_dataset)"
      ],
      "execution_count": 55,
      "outputs": [
        {
          "output_type": "stream",
          "name": "stdout",
          "text": [
            "945/945 [==============================] - 10s 10ms/step - loss: 0.7390 - accuracy: 0.7154\n"
          ]
        },
        {
          "output_type": "execute_result",
          "data": {
            "text/plain": [
              "[0.7390443086624146, 0.7153779864311218]"
            ]
          },
          "metadata": {},
          "execution_count": 55
        }
      ]
    },
    {
      "cell_type": "code",
      "metadata": {
        "colab": {
          "base_uri": "https://localhost:8080/"
        },
        "id": "yHXNAWaauJ4j",
        "outputId": "970ed8c8-734b-4057-ca33-b8e75ec1e2a0"
      },
      "source": [
        "# Make predictions with feature extraction model\n",
        "model_2_pred_probs = model_2.predict(valid_dataset)\n",
        "model_2_pred_probs"
      ],
      "execution_count": 56,
      "outputs": [
        {
          "output_type": "execute_result",
          "data": {
            "text/plain": [
              "array([[4.3157941e-01, 3.6981836e-01, 2.1135577e-03, 1.8895350e-01,\n",
              "        7.5352672e-03],\n",
              "       [3.3313885e-01, 5.1777691e-01, 3.1186822e-03, 1.4313546e-01,\n",
              "        2.8301328e-03],\n",
              "       [2.3659046e-01, 1.5378806e-01, 2.1860240e-02, 5.4868239e-01,\n",
              "        3.9078817e-02],\n",
              "       ...,\n",
              "       [1.5760531e-03, 5.3396034e-03, 4.6958081e-02, 8.3834445e-04,\n",
              "        9.4528794e-01],\n",
              "       [4.0139798e-03, 4.5777485e-02, 1.9541243e-01, 1.5952871e-03,\n",
              "        7.5320077e-01],\n",
              "       [1.9660288e-01, 2.6942074e-01, 4.6674147e-01, 6.7144679e-03,\n",
              "        6.0520478e-02]], dtype=float32)"
            ]
          },
          "metadata": {},
          "execution_count": 56
        }
      ]
    },
    {
      "cell_type": "code",
      "metadata": {
        "colab": {
          "base_uri": "https://localhost:8080/"
        },
        "id": "QhTCTUjpvmkW",
        "outputId": "56b927dc-377a-40ef-cf92-3b75cfeb8944"
      },
      "source": [
        "# Convert the prediction proobabilities found with feature extraction model to labels\n",
        "model_2_preds = tf.argmax(model_2_pred_probs, axis=1)\n",
        "model_2_preds"
      ],
      "execution_count": 57,
      "outputs": [
        {
          "output_type": "execute_result",
          "data": {
            "text/plain": [
              "<tf.Tensor: shape=(30212,), dtype=int64, numpy=array([0, 1, 3, ..., 4, 4, 2])>"
            ]
          },
          "metadata": {},
          "execution_count": 57
        }
      ]
    },
    {
      "cell_type": "code",
      "metadata": {
        "colab": {
          "base_uri": "https://localhost:8080/"
        },
        "id": "CnCjptZxv8jb",
        "outputId": "8df9c858-35db-4d4b-b4ca-ca00e03c1032"
      },
      "source": [
        "# Calculate results from TF Hub \n",
        "model_2_results = calculate_results(y_true=val_labels_encoded,\n",
        "                                    y_pred=model_2_preds)\n",
        "\n",
        "model_2_results"
      ],
      "execution_count": 58,
      "outputs": [
        {
          "output_type": "execute_result",
          "data": {
            "text/plain": [
              "{'accuracy': 71.53779954984775,\n",
              " 'f1': 0.7123094333178281,\n",
              " 'precision': 0.7159589323092629,\n",
              " 'recall': 0.7153779954984775}"
            ]
          },
          "metadata": {},
          "execution_count": 58
        }
      ]
    },
    {
      "cell_type": "code",
      "metadata": {
        "colab": {
          "base_uri": "https://localhost:8080/"
        },
        "id": "LSCkgoOdxXWg",
        "outputId": "8f824315-37b4-4989-db68-aa09f9149b4d"
      },
      "source": [
        "baseline_results"
      ],
      "execution_count": 59,
      "outputs": [
        {
          "output_type": "execute_result",
          "data": {
            "text/plain": [
              "{'accuracy': 72.1832384482987,\n",
              " 'f1': 0.6989250353450294,\n",
              " 'precision': 0.7186466952323352,\n",
              " 'recall': 0.7218323844829869}"
            ]
          },
          "metadata": {},
          "execution_count": 59
        }
      ]
    },
    {
      "cell_type": "code",
      "metadata": {
        "colab": {
          "base_uri": "https://localhost:8080/"
        },
        "id": "9dGJs7SmxaNM",
        "outputId": "a518f432-8feb-43e3-8f8b-931b17f6f479"
      },
      "source": [
        "model_1_results"
      ],
      "execution_count": 60,
      "outputs": [
        {
          "output_type": "execute_result",
          "data": {
            "text/plain": [
              "{'accuracy': 78.80312458625711,\n",
              " 'f1': 0.785803867741174,\n",
              " 'precision': 0.7850132739025757,\n",
              " 'recall': 0.7880312458625711}"
            ]
          },
          "metadata": {},
          "execution_count": 60
        }
      ]
    },
    {
      "cell_type": "markdown",
      "metadata": {
        "id": "jRCz2h8Cxelo"
      },
      "source": [
        "## Model 3: Conv1D with character embeddings"
      ]
    },
    {
      "cell_type": "markdown",
      "metadata": {
        "id": "xbdtYO4qzmoG"
      },
      "source": [
        "### Create character level tokenizer"
      ]
    },
    {
      "cell_type": "code",
      "metadata": {
        "id": "Bh__wpHVzrbf"
      },
      "source": [
        "# Make function to split sentences into characters\n",
        "def split_chars(text):\n",
        "  return \" \".join(list(text))"
      ],
      "execution_count": 61,
      "outputs": []
    },
    {
      "cell_type": "code",
      "metadata": {
        "colab": {
          "base_uri": "https://localhost:8080/",
          "height": 103
        },
        "id": "UW3clJKQ0A0B",
        "outputId": "5cf47d16-3d1c-4e4a-c41f-d87baaed4279"
      },
      "source": [
        "split_chars(random_train_sentence)"
      ],
      "execution_count": 62,
      "outputs": [
        {
          "output_type": "execute_result",
          "data": {
            "application/vnd.google.colaboratory.intrinsic+json": {
              "type": "string"
            },
            "text/plain": [
              "'c o m p l e t e   c l i n i c a l   c l e a r a n c e   a t   @   w e e k s   o c c u r r e d   i n   @   o f   @   p a t i e n t s   (   @   %   ;   @   %   c i   ,   @   %   - @   %   )   w i t h   p l a c e b o   ;   @   o f   @   (   @   %   ;   @   %   c i   ,   @   %   - @   %   )   w i t h   l o w - d o s e   t r e a t m e n t   ;   @   o f   @   (   @   %   ;   @   %   c i   ,   @   %   - @   %   )   w i t h   m i d d l e - d o s e   t r e a t m e n t   ;   a n d   @   o f   @   (   @   %   ;   @   %   c i   ,   @   %   - @   %   )   w i t h   h i g h - d o s e   t r e a t m e n t   (   p   =   @   )   .'"
            ]
          },
          "metadata": {},
          "execution_count": 62
        }
      ]
    },
    {
      "cell_type": "code",
      "metadata": {
        "colab": {
          "base_uri": "https://localhost:8080/"
        },
        "id": "a9Xeiyy60HXY",
        "outputId": "3f2c3401-c819-4281-ade6-7e86a5ff6f1c"
      },
      "source": [
        "# Split sequence-level data splits into character-level data splits\n",
        "train_chars = [split_chars(sentence) for sentence in train_sentences]\n",
        "train_chars[:5]"
      ],
      "execution_count": 63,
      "outputs": [
        {
          "output_type": "execute_result",
          "data": {
            "text/plain": [
              "['t o   i n v e s t i g a t e   t h e   e f f i c a c y   o f   @   w e e k s   o f   d a i l y   l o w - d o s e   o r a l   p r e d n i s o l o n e   i n   i m p r o v i n g   p a i n   ,   m o b i l i t y   ,   a n d   s y s t e m i c   l o w - g r a d e   i n f l a m m a t i o n   i n   t h e   s h o r t   t e r m   a n d   w h e t h e r   t h e   e f f e c t   w o u l d   b e   s u s t a i n e d   a t   @   w e e k s   i n   o l d e r   a d u l t s   w i t h   m o d e r a t e   t o   s e v e r e   k n e e   o s t e o a r t h r i t i s   (   o a   )   .',\n",
              " 'a   t o t a l   o f   @   p a t i e n t s   w i t h   p r i m a r y   k n e e   o a   w e r e   r a n d o m i z e d   @ : @   ;   @   r e c e i v e d   @   m g / d a y   o f   p r e d n i s o l o n e   a n d   @   r e c e i v e d   p l a c e b o   f o r   @   w e e k s   .',\n",
              " 'o u t c o m e   m e a s u r e s   i n c l u d e d   p a i n   r e d u c t i o n   a n d   i m p r o v e m e n t   i n   f u n c t i o n   s c o r e s   a n d   s y s t e m i c   i n f l a m m a t i o n   m a r k e r s   .',\n",
              " 'p a i n   w a s   a s s e s s e d   u s i n g   t h e   v i s u a l   a n a l o g   p a i n   s c a l e   (   @ - @   m m   )   .',\n",
              " 's e c o n d a r y   o u t c o m e   m e a s u r e s   i n c l u d e d   t h e   w e s t e r n   o n t a r i o   a n d   m c m a s t e r   u n i v e r s i t i e s   o s t e o a r t h r i t i s   i n d e x   s c o r e s   ,   p a t i e n t   g l o b a l   a s s e s s m e n t   (   p g a   )   o f   t h e   s e v e r i t y   o f   k n e e   o a   ,   a n d   @ - m i n   w a l k   d i s t a n c e   (   @ m w d   )   .']"
            ]
          },
          "metadata": {},
          "execution_count": 63
        }
      ]
    },
    {
      "cell_type": "code",
      "metadata": {
        "id": "vLNEnEZgmX2A"
      },
      "source": [
        "val_chars = [split_chars(sentence) for sentence in val_sentences]\n",
        "test_chars = [split_chars(sentence) for sentence in test_sentences]"
      ],
      "execution_count": 64,
      "outputs": []
    },
    {
      "cell_type": "code",
      "metadata": {
        "colab": {
          "base_uri": "https://localhost:8080/"
        },
        "id": "hAbd2gJRmnli",
        "outputId": "f9ce6787-11e2-48d5-c802-20f3e8f2b088"
      },
      "source": [
        "# What's the average character length?\n",
        "char_lens = [len(sentence) for sentence in train_sentences]\n",
        "mean_char_lens = np.mean(char_lens)\n",
        "mean_char_lens"
      ],
      "execution_count": 65,
      "outputs": [
        {
          "output_type": "execute_result",
          "data": {
            "text/plain": [
              "149.3662574983337"
            ]
          },
          "metadata": {},
          "execution_count": 65
        }
      ]
    },
    {
      "cell_type": "code",
      "metadata": {
        "colab": {
          "base_uri": "https://localhost:8080/",
          "height": 367
        },
        "id": "e1j7uxtPm_Bp",
        "outputId": "48b8a399-12fc-460d-c44d-59209ef4400e"
      },
      "source": [
        "# Check the distribution of our sequences at a character level\n",
        "import matplotlib.pyplot as plt\n",
        "plt.hist(char_lens, edgecolor=\"black\")"
      ],
      "execution_count": 66,
      "outputs": [
        {
          "output_type": "execute_result",
          "data": {
            "text/plain": [
              "(array([9.2691e+04, 7.6343e+04, 9.6890e+03, 1.0890e+03, 1.6700e+02,\n",
              "        4.2000e+01, 1.3000e+01, 3.0000e+00, 2.0000e+00, 1.0000e+00]),\n",
              " array([1.0000e+00, 1.3950e+02, 2.7800e+02, 4.1650e+02, 5.5500e+02,\n",
              "        6.9350e+02, 8.3200e+02, 9.7050e+02, 1.1090e+03, 1.2475e+03,\n",
              "        1.3860e+03]),\n",
              " <a list of 10 Patch objects>)"
            ]
          },
          "metadata": {},
          "execution_count": 66
        },
        {
          "output_type": "display_data",
          "data": {
            "image/png": "[encoded data removed]",
            "text/plain": [
              "<Figure size 432x288 with 1 Axes>"
            ]
          },
          "metadata": {
            "needs_background": "light"
          }
        }
      ]
    },
    {
      "cell_type": "code",
      "metadata": {
        "colab": {
          "base_uri": "https://localhost:8080/"
        },
        "id": "Ml2kRpeunq-s",
        "outputId": "575de9fb-1837-48d6-fa65-43063417a2c0"
      },
      "source": [
        "# Find what character length covers 95% of sequences\n",
        "output_seq_char_len = int(np.percentile(char_lens, 95))\n",
        "output_seq_char_len"
      ],
      "execution_count": 67,
      "outputs": [
        {
          "output_type": "execute_result",
          "data": {
            "text/plain": [
              "290"
            ]
          },
          "metadata": {},
          "execution_count": 67
        }
      ]
    },
    {
      "cell_type": "code",
      "metadata": {
        "colab": {
          "base_uri": "https://localhost:8080/",
          "height": 35
        },
        "id": "_MepxGa1oFCJ",
        "outputId": "0b50336a-32ef-4056-d4bc-448f2d96ece1"
      },
      "source": [
        "import string\n",
        "alphabet = string.ascii_lowercase + string.digits + string.punctuation\n",
        "alphabet"
      ],
      "execution_count": 68,
      "outputs": [
        {
          "output_type": "execute_result",
          "data": {
            "application/vnd.google.colaboratory.intrinsic+json": {
              "type": "string"
            },
            "text/plain": [
              "'abcdefghijklmnopqrstuvwxyz0123456789!\"#$%&\\'()*+,-./:;<=>?@[\\\\]^_`{|}~'"
            ]
          },
          "metadata": {},
          "execution_count": 68
        }
      ]
    },
    {
      "cell_type": "code",
      "metadata": {
        "id": "biT6DgCLoy03"
      },
      "source": [
        "# Create char-level token vectorizer instance\n",
        "NUM_CHAR_TOKENS = len(alphabet) + 2 #add 2 for space and oov token\n",
        "char_vectorizer = TextVectorization(max_tokens=NUM_CHAR_TOKENS,\n",
        "                                    output_sequence_length=output_seq_char_len,\n",
        "                                    name=\"char_vectorizer\")"
      ],
      "execution_count": 69,
      "outputs": []
    },
    {
      "cell_type": "code",
      "metadata": {
        "id": "uSWF7Z6yppog"
      },
      "source": [
        "# Adapt character vectorizer to training characters\n",
        "char_vectorizer.adapt(train_chars)"
      ],
      "execution_count": 70,
      "outputs": []
    },
    {
      "cell_type": "code",
      "metadata": {
        "colab": {
          "base_uri": "https://localhost:8080/"
        },
        "id": "-CitQaFWpzcY",
        "outputId": "7b48f8a8-3745-45e2-de02-3aa96992d88b"
      },
      "source": [
        "# Check character vocab stats\n",
        "char_vocab = char_vectorizer.get_vocabulary()\n",
        "print(f\"Number of different characters in character vocab: {len(char_vocab)}\")\n",
        "print(f\"5 most common characters: {char_vocab[:5]}\")\n",
        "print(f\"5 least common characters: {char_vocab[-5:]}\")"
      ],
      "execution_count": 71,
      "outputs": [
        {
          "output_type": "stream",
          "name": "stdout",
          "text": [
            "Number of different characters in character vocab: 28\n",
            "5 most common characters: ['', '[UNK]', 'e', 't', 'i']\n",
            "5 least common characters: ['k', 'x', 'z', 'q', 'j']\n"
          ]
        }
      ]
    },
    {
      "cell_type": "code",
      "metadata": {
        "colab": {
          "base_uri": "https://localhost:8080/"
        },
        "id": "6ra-BwfmqeKH",
        "outputId": "654f9f99-8590-4666-b848-a6feb29cc732"
      },
      "source": [
        "# Test our character vecctorizer\n",
        "random_train_chars = random.choice(train_chars)\n",
        "print(f\"Charified text:\\n {random_train_chars}\")\n",
        "print(f\"Length of ranndom_train_chars: {len(random_train_chars)}\")\n",
        "vectorized_chars = char_vectorizer([random_train_chars])\n",
        "print(f\"Vectorized chars:\\n {vectorized_chars}\")\n",
        "print(f\"Length of vectorized_charrs: {len(vectorized_chars[0])}\")"
      ],
      "execution_count": 72,
      "outputs": [
        {
          "output_type": "stream",
          "name": "stdout",
          "text": [
            "Charified text:\n",
            " v o l u m e   a s s u r e d   n i v   (   v a - n i v   )   m a y   i m p r o v e   c o m p l i a n c e   a n d   v e n t i l a t i o n   d u r i n g   s l e e p   b y   a u t o m a t i c a l l y   t i t r a t i n g   v e n t i l a t o r y   p r e s s u r e s   .\n",
            "Length of ranndom_train_chars: 263\n",
            "Vectorized chars:\n",
            " [[21  7 12 16 15  2  5  9  9 16  8  2 10  6  4 21 21  5  6  4 21 15  5 19\n",
            "   4 15 14  8  7 21  2 11  7 15 14 12  4  5  6 11  2  5  6 10 21  2  6  3\n",
            "   4 12  5  3  4  7  6 10 16  8  4  6 18  9 12  2  2 14 22 19  5 16  3  7\n",
            "  15  5  3  4 11  5 12 12 19  3  4  3  8  5  3  4  6 18 21  2  6  3  4 12\n",
            "   5  3  7  8 19 14  8  2  9  9 16  8  2  9  0  0  0  0  0  0  0  0  0  0\n",
            "   0  0  0  0  0  0  0  0  0  0  0  0  0  0  0  0  0  0  0  0  0  0  0  0\n",
            "   0  0  0  0  0  0  0  0  0  0  0  0  0  0  0  0  0  0  0  0  0  0  0  0\n",
            "   0  0  0  0  0  0  0  0  0  0  0  0  0  0  0  0  0  0  0  0  0  0  0  0\n",
            "   0  0  0  0  0  0  0  0  0  0  0  0  0  0  0  0  0  0  0  0  0  0  0  0\n",
            "   0  0  0  0  0  0  0  0  0  0  0  0  0  0  0  0  0  0  0  0  0  0  0  0\n",
            "   0  0  0  0  0  0  0  0  0  0  0  0  0  0  0  0  0  0  0  0  0  0  0  0\n",
            "   0  0  0  0  0  0  0  0  0  0  0  0  0  0  0  0  0  0  0  0  0  0  0  0\n",
            "   0  0]]\n",
            "Length of vectorized_charrs: 290\n"
          ]
        }
      ]
    },
    {
      "cell_type": "markdown",
      "metadata": {
        "id": "tBVJri9vr6bT"
      },
      "source": [
        "### Creating a character-level embedding"
      ]
    },
    {
      "cell_type": "code",
      "metadata": {
        "id": "R45Lu07-s-nh"
      },
      "source": [
        "# Create a char embedding layer\n",
        "char_embed = layers.Embedding(input_dim=len(char_vocab),\n",
        "                              output_dim=25, # the size of char embedding in the paper\n",
        "                              mask_zero=True,\n",
        "                              name=\"char_embed\"\n",
        "                              )"
      ],
      "execution_count": 73,
      "outputs": []
    },
    {
      "cell_type": "code",
      "metadata": {
        "colab": {
          "base_uri": "https://localhost:8080/"
        },
        "id": "UnkrPBIfu4sF",
        "outputId": "0ff944ec-be4b-44d1-e37a-aef54f4917ea"
      },
      "source": [
        "# Test our embedding layer\n",
        "print(f\"Charified text:\\n {random_train_chars}\\n\")\n",
        "char_embed_example = char_embed(char_vectorizer([random_train_chars]))\n",
        "print(f\"Embedded chars (after vectorization and embedding:\\n {char_embed_example}\\n\")\n",
        "print(f\"Character embedding shape: {char_embed_example.shape}\")"
      ],
      "execution_count": 74,
      "outputs": [
        {
          "output_type": "stream",
          "name": "stdout",
          "text": [
            "Charified text:\n",
            " v o l u m e   a s s u r e d   n i v   (   v a - n i v   )   m a y   i m p r o v e   c o m p l i a n c e   a n d   v e n t i l a t i o n   d u r i n g   s l e e p   b y   a u t o m a t i c a l l y   t i t r a t i n g   v e n t i l a t o r y   p r e s s u r e s   .\n",
            "\n",
            "Embedded chars (after vectorization and embedding:\n",
            " [[[ 0.002298   -0.03677506  0.04620253 ... -0.01581543  0.01528538\n",
            "    0.03002002]\n",
            "  [ 0.02617117 -0.01704415  0.00646598 ... -0.01615418 -0.00905555\n",
            "   -0.00775477]\n",
            "  [-0.0096227   0.02891829 -0.04424514 ...  0.03247029  0.03774695\n",
            "   -0.03356748]\n",
            "  ...\n",
            "  [-0.04018631  0.02413961 -0.03413868 ...  0.01254966 -0.03780669\n",
            "   -0.0159405 ]\n",
            "  [-0.04018631  0.02413961 -0.03413868 ...  0.01254966 -0.03780669\n",
            "   -0.0159405 ]\n",
            "  [-0.04018631  0.02413961 -0.03413868 ...  0.01254966 -0.03780669\n",
            "   -0.0159405 ]]]\n",
            "\n",
            "Character embedding shape: (1, 290, 25)\n"
          ]
        }
      ]
    },
    {
      "cell_type": "markdown",
      "metadata": {
        "id": "mdpZwo7cvkov"
      },
      "source": [
        "### Building a Conv1D to fit on character embeddinng"
      ]
    },
    {
      "cell_type": "code",
      "metadata": {
        "id": "KdYsL3LjwfLD"
      },
      "source": [
        "# Make Conv1D on chars only\n",
        "inputs = layers.Input(shape=(1,),\n",
        "                      dtype=tf.string)\n",
        "char_vectors = char_vectorizer(inputs)\n",
        "char_embeddings = char_embed(char_vectors)\n",
        "x = layers.Conv1D(64, kernel_size=5, padding=\"same\", activation=\"relu\")(char_embeddings)\n",
        "x = layers.GlobalMaxPooling1D()(x)\n",
        "outputs = layers.Dense(num_classes, activation=\"softmax\")(x)\n",
        "model_3 = tf.keras.Model(inputs=inputs,\n",
        "                         outputs=outputs,\n",
        "                         name=\"model_3_conv1d_char_embeddings\")\n",
        "# Compile \n",
        "model_3.compile(loss=\"categorical_crossentropy\",\n",
        "                optimizer=tf.keras.optimizers.Adam(),\n",
        "                metrics=['accuracy'])"
      ],
      "execution_count": 75,
      "outputs": []
    },
    {
      "cell_type": "code",
      "metadata": {
        "colab": {
          "base_uri": "https://localhost:8080/"
        },
        "id": "PLWK9MBmx0pq",
        "outputId": "babca855-aa63-4f1f-fa90-1a435100ae0d"
      },
      "source": [
        "model_3.summary()"
      ],
      "execution_count": 76,
      "outputs": [
        {
          "output_type": "stream",
          "name": "stdout",
          "text": [
            "Model: \"model_3_conv1d_char_embeddings\"\n",
            "_________________________________________________________________\n",
            "Layer (type)                 Output Shape              Param #   \n",
            "=================================================================\n",
            "input_3 (InputLayer)         [(None, 1)]               0         \n",
            "_________________________________________________________________\n",
            "char_vectorizer (TextVectori (None, 290)               0         \n",
            "_________________________________________________________________\n",
            "char_embed (Embedding)       (None, 290, 25)           700       \n",
            "_________________________________________________________________\n",
            "conv1d_1 (Conv1D)            (None, 290, 64)           8064      \n",
            "_________________________________________________________________\n",
            "global_max_pooling1d (Global (None, 64)                0         \n",
            "_________________________________________________________________\n",
            "dense_3 (Dense)              (None, 5)                 325       \n",
            "=================================================================\n",
            "Total params: 9,089\n",
            "Trainable params: 9,089\n",
            "Non-trainable params: 0\n",
            "_________________________________________________________________\n"
          ]
        }
      ]
    },
    {
      "cell_type": "code",
      "metadata": {
        "colab": {
          "base_uri": "https://localhost:8080/"
        },
        "id": "__oqigzTyRhL",
        "outputId": "3ffafbf3-bc07-4047-97c1-0bc35db59f1a"
      },
      "source": [
        "# Create char level datasets\n",
        "train_char_dataset = tf.data.Dataset.from_tensor_slices((train_chars, train_labels_one_hot)).batch(32).prefetch(tf.data.AUTOTUNE)\n",
        "val_char_dataset = tf.data.Dataset.from_tensor_slices((val_chars, val_labels_one_hot)).batch(32).prefetch(tf.data.AUTOTUNE)\n",
        "test_char_dataset = tf.data.Dataset.from_tensor_slices((test_chars, test_labels_one_hot)).batch(32).prefetch(tf.data.AUTOTUNE)\n",
        "\n",
        "\n",
        "train_char_dataset"
      ],
      "execution_count": 77,
      "outputs": [
        {
          "output_type": "execute_result",
          "data": {
            "text/plain": [
              "<PrefetchDataset shapes: ((None,), (None, 5)), types: (tf.string, tf.float64)>"
            ]
          },
          "metadata": {},
          "execution_count": 77
        }
      ]
    },
    {
      "cell_type": "code",
      "metadata": {
        "colab": {
          "base_uri": "https://localhost:8080/"
        },
        "id": "2VYVrDS1zYyg",
        "outputId": "551e16ad-3979-4f5f-b12d-a83860ddb9fb"
      },
      "source": [
        "# Fit the model onn chars only\n",
        "model_3_history = model_3.fit(train_char_dataset,\n",
        "                              steps_per_epoch=int(0.1*len(train_char_dataset)),\n",
        "                              epochs=3,\n",
        "                              validation_data=val_char_dataset,\n",
        "                              validation_steps=int(0.1*len(val_char_dataset)))\n"
      ],
      "execution_count": 78,
      "outputs": [
        {
          "output_type": "stream",
          "name": "stdout",
          "text": [
            "Epoch 1/3\n",
            "562/562 [==============================] - 18s 31ms/step - loss: 1.2551 - accuracy: 0.4835 - val_loss: 1.0423 - val_accuracy: 0.5735\n",
            "Epoch 2/3\n",
            "562/562 [==============================] - 17s 30ms/step - loss: 1.0131 - accuracy: 0.5930 - val_loss: 0.9515 - val_accuracy: 0.6210\n",
            "Epoch 3/3\n",
            "562/562 [==============================] - 17s 30ms/step - loss: 0.9359 - accuracy: 0.6313 - val_loss: 0.8886 - val_accuracy: 0.6516\n"
          ]
        }
      ]
    },
    {
      "cell_type": "code",
      "metadata": {
        "colab": {
          "base_uri": "https://localhost:8080/"
        },
        "id": "tFN6MfxB0Brr",
        "outputId": "e1749ef9-217d-4a6e-930d-9f7f01cb81af"
      },
      "source": [
        "# Make predictions with character model only\n",
        "model_3_pred_probs = model_3.predict(val_char_dataset)\n",
        "model_3_pred_probs"
      ],
      "execution_count": 79,
      "outputs": [
        {
          "output_type": "execute_result",
          "data": {
            "text/plain": [
              "array([[0.1811185 , 0.34367874, 0.20550811, 0.24278311, 0.02691152],\n",
              "       [0.13021652, 0.4865239 , 0.03174498, 0.25202656, 0.09948792],\n",
              "       [0.14807434, 0.20318691, 0.3347782 , 0.20552705, 0.10843349],\n",
              "       ...,\n",
              "       [0.01164077, 0.03527961, 0.16079055, 0.03219201, 0.760097  ],\n",
              "       [0.02307026, 0.04571687, 0.5383894 , 0.04549888, 0.3473246 ],\n",
              "       [0.5027821 , 0.31758258, 0.13074535, 0.04525878, 0.00363117]],\n",
              "      dtype=float32)"
            ]
          },
          "metadata": {},
          "execution_count": 79
        }
      ]
    },
    {
      "cell_type": "code",
      "metadata": {
        "colab": {
          "base_uri": "https://localhost:8080/"
        },
        "id": "mUrIT4kn01pz",
        "outputId": "0f3eabfe-80ac-4074-979a-0eaba6fe62a8"
      },
      "source": [
        "# Convert prediction probabilities to class values\n",
        "model_3_preds = tf.argmax(model_3_pred_probs, axis=1)\n",
        "model_3_preds"
      ],
      "execution_count": 80,
      "outputs": [
        {
          "output_type": "execute_result",
          "data": {
            "text/plain": [
              "<tf.Tensor: shape=(30212,), dtype=int64, numpy=array([1, 1, 2, ..., 4, 2, 0])>"
            ]
          },
          "metadata": {},
          "execution_count": 80
        }
      ]
    },
    {
      "cell_type": "code",
      "metadata": {
        "colab": {
          "base_uri": "https://localhost:8080/"
        },
        "id": "NZHWIJuO1Eb3",
        "outputId": "f2823bb0-7e42-41fe-f107-30a61f1f07fd"
      },
      "source": [
        "# Calculate results for Conv1D model chars only\n",
        "model_3_results = calculate_results(y_true=val_labels_encoded,\n",
        "                                    y_pred=model_3_preds)\n",
        "model_3_results"
      ],
      "execution_count": 81,
      "outputs": [
        {
          "output_type": "execute_result",
          "data": {
            "text/plain": [
              "{'accuracy': 64.80206540447504,\n",
              " 'f1': 0.6361477939725904,\n",
              " 'precision': 0.6422621410579682,\n",
              " 'recall': 0.6480206540447504}"
            ]
          },
          "metadata": {},
          "execution_count": 81
        }
      ]
    },
    {
      "cell_type": "code",
      "metadata": {
        "colab": {
          "base_uri": "https://localhost:8080/"
        },
        "id": "ZvaQ-sue1Xzv",
        "outputId": "29bd13bc-fc0d-419f-fdef-51f0d493f971"
      },
      "source": [
        "model_3_results"
      ],
      "execution_count": 82,
      "outputs": [
        {
          "output_type": "execute_result",
          "data": {
            "text/plain": [
              "{'accuracy': 64.80206540447504,\n",
              " 'f1': 0.6361477939725904,\n",
              " 'precision': 0.6422621410579682,\n",
              " 'recall': 0.6480206540447504}"
            ]
          },
          "metadata": {},
          "execution_count": 82
        }
      ]
    },
    {
      "cell_type": "markdown",
      "metadata": {
        "id": "midkMlMh_Dxl"
      },
      "source": [
        "## Model 4: Combining pretrained token embeddings + character embeddings\n",
        "\n",
        "1. Create a token-level embedding model (similar to `model_1`)\n",
        "2. Create a character-level model (similar to `model_3` with a slight modification)\n",
        "3. Combine 1 & 2 with a concatenate layer (`layers.Concatenate`)\n",
        "4. Build a series of output layers on top of 3\n",
        "5. Construct a model which takes token and character-level sequence as input and produces sequence label probabilities as output"
      ]
    },
    {
      "cell_type": "markdown",
      "metadata": {
        "id": "eH7nBDUuHPAj"
      },
      "source": [
        "### 1. Setup token inputs/model"
      ]
    },
    {
      "cell_type": "code",
      "metadata": {
        "id": "yFxDuCG_Hloy"
      },
      "source": [
        "token_inputs = layers.Input(shape=[], dtype=tf.string, name=\"token_input\")\n",
        "token_embeddings = tf_hub_embedding_layer(token_inputs)\n",
        "token_output = layers.Dense(128, activation=\"relu\")(token_embeddings)\n",
        "token_model = tf.keras.Model(inputs=token_inputs, \n",
        "                             outputs=token_output)\n"
      ],
      "execution_count": 83,
      "outputs": []
    },
    {
      "cell_type": "markdown",
      "metadata": {
        "id": "aLfiO0PEIZcQ"
      },
      "source": [
        "### 2. Create a character-level model"
      ]
    },
    {
      "cell_type": "code",
      "metadata": {
        "id": "wLc03cnBIgp7"
      },
      "source": [
        "#Setup char inputs/model\n",
        "char_inputs = layers.Input(shape=(1,), dtype=tf.string, name=\"char_input\")\n",
        "char_vectors = char_vectorizer(char_inputs)\n",
        "char_embeddings = char_embed(char_vectors)\n",
        "char_bi_lstm = layers.Bidirectional(layers.LSTM(24))(char_embeddings)\n",
        "char_model = tf.keras.Model(inputs=char_inputs,\n",
        "                            outputs=char_bi_lstm)"
      ],
      "execution_count": 84,
      "outputs": []
    },
    {
      "cell_type": "markdown",
      "metadata": {
        "id": "4_aMV8-fJUXI"
      },
      "source": [
        "### 3. Combine 1 & 2 with a `Concatenate layer`"
      ]
    },
    {
      "cell_type": "code",
      "metadata": {
        "id": "kGXHAfEBK0WR"
      },
      "source": [
        "token_char_concat = layers.Concatenate(name=\"token_char_hybrid\")([token_model.output,\n",
        "                                                                  char_model.output])"
      ],
      "execution_count": 85,
      "outputs": []
    },
    {
      "cell_type": "markdown",
      "metadata": {
        "id": "x02pcygwLIu8"
      },
      "source": [
        "### 4. Build a series of output layers on top of hybrid model (adding Dropout)"
      ]
    },
    {
      "cell_type": "code",
      "metadata": {
        "id": "cKaSvam5LXYv"
      },
      "source": [
        "combined_dropout = layers.Dropout(0.5)(token_char_concat)\n",
        "combined_dense = layers.Dense(128, activation=\"relu\")(combined_dropout)\n",
        "\n",
        "final_dropout = layers.Dropout(0.5)(combined_dense)\n",
        "output_layer = layers.Dense(num_classes, activation=\"softmax\")(final_dropout)"
      ],
      "execution_count": 86,
      "outputs": []
    },
    {
      "cell_type": "markdown",
      "metadata": {
        "id": "flrG0k8ZMKlz"
      },
      "source": [
        "### 5. Construct a model that takes character and token level sequences as input\n"
      ]
    },
    {
      "cell_type": "code",
      "metadata": {
        "id": "rzK-E5TUMbyW"
      },
      "source": [
        "model_4 = tf.keras.Model(inputs=[token_model.input, char_model.input],\n",
        "                         outputs=output_layer,\n",
        "                         name=\"model_4_token_and_char_embeddings\")"
      ],
      "execution_count": 87,
      "outputs": []
    },
    {
      "cell_type": "code",
      "metadata": {
        "colab": {
          "base_uri": "https://localhost:8080/"
        },
        "id": "ReglupiyMyRa",
        "outputId": "757514c5-ceea-49be-a959-7288c4848b2d"
      },
      "source": [
        "# Get a summary \n",
        "model_4.summary()"
      ],
      "execution_count": 88,
      "outputs": [
        {
          "output_type": "stream",
          "name": "stdout",
          "text": [
            "Model: \"model_4_token_and_char_embeddings\"\n",
            "__________________________________________________________________________________________________\n",
            "Layer (type)                    Output Shape         Param #     Connected to                     \n",
            "==================================================================================================\n",
            "char_input (InputLayer)         [(None, 1)]          0                                            \n",
            "__________________________________________________________________________________________________\n",
            "token_input (InputLayer)        [(None,)]            0                                            \n",
            "__________________________________________________________________________________________________\n",
            "char_vectorizer (TextVectorizat (None, 290)          0           char_input[0][0]                 \n",
            "__________________________________________________________________________________________________\n",
            "universal_sentence_encoder (Ker (None, 512)          256797824   token_input[0][0]                \n",
            "__________________________________________________________________________________________________\n",
            "char_embed (Embedding)          (None, 290, 25)      700         char_vectorizer[1][0]            \n",
            "__________________________________________________________________________________________________\n",
            "dense_4 (Dense)                 (None, 128)          65664       universal_sentence_encoder[1][0] \n",
            "__________________________________________________________________________________________________\n",
            "bidirectional (Bidirectional)   (None, 48)           9600        char_embed[1][0]                 \n",
            "__________________________________________________________________________________________________\n",
            "token_char_hybrid (Concatenate) (None, 176)          0           dense_4[0][0]                    \n",
            "                                                                 bidirectional[0][0]              \n",
            "__________________________________________________________________________________________________\n",
            "dropout (Dropout)               (None, 176)          0           token_char_hybrid[0][0]          \n",
            "__________________________________________________________________________________________________\n",
            "dense_5 (Dense)                 (None, 128)          22656       dropout[0][0]                    \n",
            "__________________________________________________________________________________________________\n",
            "dropout_1 (Dropout)             (None, 128)          0           dense_5[0][0]                    \n",
            "__________________________________________________________________________________________________\n",
            "dense_6 (Dense)                 (None, 5)            645         dropout_1[0][0]                  \n",
            "==================================================================================================\n",
            "Total params: 256,897,089\n",
            "Trainable params: 99,265\n",
            "Non-trainable params: 256,797,824\n",
            "__________________________________________________________________________________________________\n"
          ]
        }
      ]
    },
    {
      "cell_type": "markdown",
      "metadata": {
        "id": "ec8XxB25NFK-"
      },
      "source": [
        "### Plot hybrid token and character model\n"
      ]
    },
    {
      "cell_type": "code",
      "metadata": {
        "colab": {
          "base_uri": "https://localhost:8080/",
          "height": 976
        },
        "id": "KHeGmUJwPJdU",
        "outputId": "3e098942-d138-4319-af9e-8c7983174f57"
      },
      "source": [
        "import tensorflow as tf\n",
        "#from tensorflow import keras\n",
        "\n",
        "from tensorflow.keras.utils import plot_model\n",
        "plot_model(model_4, show_shapes=True)"
      ],
      "execution_count": 89,
      "outputs": [
        {
          "output_type": "execute_result",
          "data": {
            "image/png": "[encoded data removed]",
            "text/plain": [
              "<IPython.core.display.Image object>"
            ]
          },
          "metadata": {},
          "execution_count": 89
        }
      ]
    },
    {
      "cell_type": "code",
      "metadata": {
        "id": "sV7FFp8aPZ83"
      },
      "source": [
        "# Compile token char model\n",
        "model_4.compile(loss=\"categorical_crossentropy\",\n",
        "                optimizer=tf.keras.optimizers.Adam(),\n",
        "                metrics=['accuracy'])"
      ],
      "execution_count": 90,
      "outputs": []
    },
    {
      "cell_type": "markdown",
      "metadata": {
        "id": "kvrHknARRfGT"
      },
      "source": [
        "### Combining token and character data into a tf.data Dataset"
      ]
    },
    {
      "cell_type": "code",
      "metadata": {
        "id": "yw1mPJ3T_wCb"
      },
      "source": [
        "# Combine chars and tokens into a dataset\n",
        "train_char_token_data = tf.data.Dataset.from_tensor_slices((train_sentences, train_chars))\n",
        "train_char_token_labels = tf.data.Dataset.from_tensor_slices((train_labels_one_hot))\n",
        "train_char_token_dataset = tf.data.Dataset.zip((train_char_token_data, train_char_token_labels))"
      ],
      "execution_count": 91,
      "outputs": []
    },
    {
      "cell_type": "code",
      "metadata": {
        "id": "IP_9q48BAv9K"
      },
      "source": [
        "#Prefetch and batch train data\n",
        "train_char_token_dataset = train_char_token_dataset.batch(32).prefetch(tf.data.AUTOTUNE)"
      ],
      "execution_count": 92,
      "outputs": []
    },
    {
      "cell_type": "code",
      "metadata": {
        "id": "zsehJT8pBNoD"
      },
      "source": [
        "# Repeat the above for validation dataset\n",
        "\n",
        "val_char_token_data = tf.data.Dataset.from_tensor_slices((val_sentences, val_chars))\n",
        "val_char_token_labels = tf.data.Dataset.from_tensor_slices((val_labels_one_hot))\n",
        "val_char_token_dataset = tf.data.Dataset.zip((val_char_token_data, val_char_token_labels))\n",
        "\n",
        "#Prefetch and batch train data\n",
        "val_char_token_dataset = val_char_token_dataset.batch(32).prefetch(tf.data.AUTOTUNE)"
      ],
      "execution_count": 93,
      "outputs": []
    },
    {
      "cell_type": "code",
      "metadata": {
        "colab": {
          "base_uri": "https://localhost:8080/"
        },
        "id": "v2YEBxdwBwec",
        "outputId": "5151e0ab-d5a7-4633-f17e-474e089d8704"
      },
      "source": [
        "# Check out our training char and token embedding dataset\n",
        "train_char_token_dataset, val_char_token_dataset"
      ],
      "execution_count": 94,
      "outputs": [
        {
          "output_type": "execute_result",
          "data": {
            "text/plain": [
              "(<PrefetchDataset shapes: (((None,), (None,)), (None, 5)), types: ((tf.string, tf.string), tf.float64)>,\n",
              " <PrefetchDataset shapes: (((None,), (None,)), (None, 5)), types: ((tf.string, tf.string), tf.float64)>)"
            ]
          },
          "metadata": {},
          "execution_count": 94
        }
      ]
    },
    {
      "cell_type": "markdown",
      "metadata": {
        "id": "xI1N_JMQCIu_"
      },
      "source": [
        "### Fitting a model on token and character-level sequences"
      ]
    },
    {
      "cell_type": "code",
      "metadata": {
        "colab": {
          "base_uri": "https://localhost:8080/"
        },
        "id": "z6BS8ZYtDFOv",
        "outputId": "73dbbf35-bb11-435e-c245-4c86c489edbd"
      },
      "source": [
        "# Fit the model on tokens and chars\n",
        "history_model_4 = model_4.fit(train_char_token_dataset,\n",
        "                              steps_per_epoch=int(0.1 * len(train_char_token_dataset)),\n",
        "                              epochs=3,\n",
        "                              validation_data=val_char_token_dataset,\n",
        "                              validation_steps=int(0.1*len(val_char_token_dataset)))"
      ],
      "execution_count": 95,
      "outputs": [
        {
          "output_type": "stream",
          "name": "stdout",
          "text": [
            "Epoch 1/3\n",
            "562/562 [==============================] - 216s 368ms/step - loss: 0.9783 - accuracy: 0.6109 - val_loss: 0.7912 - val_accuracy: 0.6955\n",
            "Epoch 2/3\n",
            "562/562 [==============================] - 191s 340ms/step - loss: 0.8072 - accuracy: 0.6857 - val_loss: 0.7226 - val_accuracy: 0.7261\n",
            "Epoch 3/3\n",
            "562/562 [==============================] - 192s 341ms/step - loss: 0.7762 - accuracy: 0.7040 - val_loss: 0.6908 - val_accuracy: 0.7394\n"
          ]
        }
      ]
    },
    {
      "cell_type": "code",
      "metadata": {
        "colab": {
          "base_uri": "https://localhost:8080/"
        },
        "id": "qiC9SuycD58D",
        "outputId": "cb8e954e-2154-465a-8094-81e025e0ea7b"
      },
      "source": [
        "# Evaluate on the whole validation dataset\n",
        "model_4.evaluate(val_char_token_dataset)"
      ],
      "execution_count": 96,
      "outputs": [
        {
          "output_type": "stream",
          "name": "stdout",
          "text": [
            "945/945 [==============================] - 67s 71ms/step - loss: 0.6954 - accuracy: 0.7350\n"
          ]
        },
        {
          "output_type": "execute_result",
          "data": {
            "text/plain": [
              "[0.6953659057617188, 0.7350059747695923]"
            ]
          },
          "metadata": {},
          "execution_count": 96
        }
      ]
    },
    {
      "cell_type": "code",
      "metadata": {
        "colab": {
          "base_uri": "https://localhost:8080/"
        },
        "id": "BkzBX1ggHiVK",
        "outputId": "63cf68ba-5668-43b1-8a85-4e4ecba8416a"
      },
      "source": [
        "# Make predictions using the token-character model hybrid\n",
        "model_4_pred_probs = model_4.predict(val_char_token_dataset)\n",
        "model_4_pred_probs"
      ],
      "execution_count": 97,
      "outputs": [
        {
          "output_type": "execute_result",
          "data": {
            "text/plain": [
              "array([[4.3761742e-01, 3.2724199e-01, 4.2508394e-03, 2.2698209e-01,\n",
              "        3.9076461e-03],\n",
              "       [3.6885029e-01, 4.8594478e-01, 2.2713821e-03, 1.4190245e-01,\n",
              "        1.0311166e-03],\n",
              "       [3.0409485e-01, 1.6307275e-01, 3.8249921e-02, 4.6688968e-01,\n",
              "        2.7692804e-02],\n",
              "       ...,\n",
              "       [5.0930987e-04, 7.9180980e-03, 4.6841029e-02, 2.4240727e-04,\n",
              "        9.4448918e-01],\n",
              "       [9.6321665e-03, 5.4762322e-02, 2.5817561e-01, 3.7067586e-03,\n",
              "        6.7372316e-01],\n",
              "       [2.7016166e-01, 3.5455307e-01, 2.7979797e-01, 3.4686375e-02,\n",
              "        6.0800958e-02]], dtype=float32)"
            ]
          },
          "metadata": {},
          "execution_count": 97
        }
      ]
    },
    {
      "cell_type": "code",
      "metadata": {
        "colab": {
          "base_uri": "https://localhost:8080/"
        },
        "id": "L4bD3qAMIEDO",
        "outputId": "0504aaf5-11fd-432d-c02f-5bf28df52b74"
      },
      "source": [
        "# Format pred probs into pred labels\n",
        "model_4_preds = tf.argmax(model_4_pred_probs, axis=1)\n",
        "model_4_preds"
      ],
      "execution_count": 98,
      "outputs": [
        {
          "output_type": "execute_result",
          "data": {
            "text/plain": [
              "<tf.Tensor: shape=(30212,), dtype=int64, numpy=array([0, 1, 3, ..., 4, 4, 1])>"
            ]
          },
          "metadata": {},
          "execution_count": 98
        }
      ]
    },
    {
      "cell_type": "code",
      "metadata": {
        "id": "qsh-Y2yuIXl5"
      },
      "source": [
        "# Get results of token char hybrid model\n",
        "model_4_results = calculate_results(y_true=val_labels_encoded,\n",
        "                                    y_pred=model_4_preds)"
      ],
      "execution_count": 99,
      "outputs": []
    },
    {
      "cell_type": "code",
      "metadata": {
        "colab": {
          "base_uri": "https://localhost:8080/"
        },
        "id": "O5v3iAOEIn3A",
        "outputId": "d4b079a3-6d53-462e-ecc2-4e1465fcc2db"
      },
      "source": [
        "model_4_results"
      ],
      "execution_count": 100,
      "outputs": [
        {
          "output_type": "execute_result",
          "data": {
            "text/plain": [
              "{'accuracy': 73.50059578975242,\n",
              " 'f1': 0.7318192079889386,\n",
              " 'precision': 0.7347798000003282,\n",
              " 'recall': 0.7350059578975242}"
            ]
          },
          "metadata": {},
          "execution_count": 100
        }
      ]
    },
    {
      "cell_type": "markdown",
      "metadata": {
        "id": "GypAH6OFIp0E"
      },
      "source": [
        "## Model 5: Transfer Learning with pretrained token embeddings + character embeddings"
      ]
    },
    {
      "cell_type": "markdown",
      "metadata": {
        "id": "OlVgqqkvMqBC"
      },
      "source": [
        "### Create positional embeddings"
      ]
    },
    {
      "cell_type": "code",
      "metadata": {
        "colab": {
          "base_uri": "https://localhost:8080/"
        },
        "id": "FxIdgr3-MzJj",
        "outputId": "49f5ad42-1218-459a-aefb-f904bbcc1dbb"
      },
      "source": [
        "# How many different line numbers are there?\n",
        "train_df['line_number'].value_counts()"
      ],
      "execution_count": 101,
      "outputs": [
        {
          "output_type": "execute_result",
          "data": {
            "text/plain": [
              "0     15000\n",
              "1     15000\n",
              "2     15000\n",
              "3     15000\n",
              "4     14992\n",
              "5     14949\n",
              "6     14758\n",
              "7     14279\n",
              "8     13346\n",
              "9     11981\n",
              "10    10041\n",
              "11     7892\n",
              "12     5853\n",
              "13     4152\n",
              "14     2835\n",
              "15     1861\n",
              "16     1188\n",
              "17      751\n",
              "18      462\n",
              "19      286\n",
              "20      162\n",
              "21      101\n",
              "22       66\n",
              "23       33\n",
              "24       22\n",
              "25       14\n",
              "26        7\n",
              "27        4\n",
              "28        3\n",
              "29        1\n",
              "30        1\n",
              "Name: line_number, dtype: int64"
            ]
          },
          "metadata": {},
          "execution_count": 101
        }
      ]
    },
    {
      "cell_type": "code",
      "metadata": {
        "colab": {
          "base_uri": "https://localhost:8080/",
          "height": 282
        },
        "id": "cuYBxCb-M8Ia",
        "outputId": "1c14cd40-54c5-4ee7-b359-b96aff4dbe1b"
      },
      "source": [
        "# Check the distribution of 'line_number' column\n",
        "train_df.line_number.plot.hist()"
      ],
      "execution_count": 102,
      "outputs": [
        {
          "output_type": "execute_result",
          "data": {
            "text/plain": [
              "<matplotlib.axes._subplots.AxesSubplot at 0x7f866353a050>"
            ]
          },
          "metadata": {},
          "execution_count": 102
        },
        {
          "output_type": "display_data",
          "data": {
            "image/png": "[encoded data removed]",
            "text/plain": [
              "<Figure size 432x288 with 1 Axes>"
            ]
          },
          "metadata": {
            "needs_background": "light"
          }
        }
      ]
    },
    {
      "cell_type": "code",
      "metadata": {
        "colab": {
          "base_uri": "https://localhost:8080/"
        },
        "id": "FlMAGv9BNbn9",
        "outputId": "5089c0f0-fdae-4e3e-eb95-e2a850bd91e2"
      },
      "source": [
        "# Use TF to create one-hot-encoded tensors of the 'line_number' column\n",
        "train_line_numbers_one_hot = tf.one_hot(train_df['line_number'].to_numpy(), depth=15)\n",
        "val_line_numbers_one_hot = tf.one_hot(val_df['line_number'].to_numpy(), depth=15)\n",
        "test_line_number_one_hot = tf.one_hot(test_df['line_number'].to_numpy(), depth=15)\n",
        "train_line_numbers_one_hot[:10], train_line_numbers_one_hot.shape"
      ],
      "execution_count": 103,
      "outputs": [
        {
          "output_type": "execute_result",
          "data": {
            "text/plain": [
              "(<tf.Tensor: shape=(10, 15), dtype=float32, numpy=\n",
              " array([[1., 0., 0., 0., 0., 0., 0., 0., 0., 0., 0., 0., 0., 0., 0.],\n",
              "        [0., 1., 0., 0., 0., 0., 0., 0., 0., 0., 0., 0., 0., 0., 0.],\n",
              "        [0., 0., 1., 0., 0., 0., 0., 0., 0., 0., 0., 0., 0., 0., 0.],\n",
              "        [0., 0., 0., 1., 0., 0., 0., 0., 0., 0., 0., 0., 0., 0., 0.],\n",
              "        [0., 0., 0., 0., 1., 0., 0., 0., 0., 0., 0., 0., 0., 0., 0.],\n",
              "        [0., 0., 0., 0., 0., 1., 0., 0., 0., 0., 0., 0., 0., 0., 0.],\n",
              "        [0., 0., 0., 0., 0., 0., 1., 0., 0., 0., 0., 0., 0., 0., 0.],\n",
              "        [0., 0., 0., 0., 0., 0., 0., 1., 0., 0., 0., 0., 0., 0., 0.],\n",
              "        [0., 0., 0., 0., 0., 0., 0., 0., 1., 0., 0., 0., 0., 0., 0.],\n",
              "        [0., 0., 0., 0., 0., 0., 0., 0., 0., 1., 0., 0., 0., 0., 0.]],\n",
              "       dtype=float32)>, TensorShape([180040, 15]))"
            ]
          },
          "metadata": {},
          "execution_count": 103
        }
      ]
    },
    {
      "cell_type": "markdown",
      "metadata": {
        "id": "eNA_1t0yOLkg"
      },
      "source": [
        "### Encode 'total_lines' feature\n"
      ]
    },
    {
      "cell_type": "code",
      "metadata": {
        "colab": {
          "base_uri": "https://localhost:8080/"
        },
        "id": "eOr-2ornXdTV",
        "outputId": "9227ba32-a2f9-4694-b340-0bdce0d9cd21"
      },
      "source": [
        "# How many numbers of lines are there?\n",
        "train_df['total_lines'].value_counts()"
      ],
      "execution_count": 104,
      "outputs": [
        {
          "output_type": "execute_result",
          "data": {
            "text/plain": [
              "11    24468\n",
              "10    23639\n",
              "12    22113\n",
              "9     19400\n",
              "13    18438\n",
              "14    14610\n",
              "8     12285\n",
              "15    10768\n",
              "7      7464\n",
              "16     7429\n",
              "17     5202\n",
              "6      3353\n",
              "18     3344\n",
              "19     2480\n",
              "20     1281\n",
              "5      1146\n",
              "21      770\n",
              "22      759\n",
              "23      264\n",
              "4       215\n",
              "24      200\n",
              "25      182\n",
              "26       81\n",
              "28       58\n",
              "3        32\n",
              "30       31\n",
              "27       28\n",
              "Name: total_lines, dtype: int64"
            ]
          },
          "metadata": {},
          "execution_count": 104
        }
      ]
    },
    {
      "cell_type": "code",
      "metadata": {
        "colab": {
          "base_uri": "https://localhost:8080/",
          "height": 284
        },
        "id": "yj58O_EVOZgw",
        "outputId": "723d7022-a178-4f94-fcf2-ed658b6380da"
      },
      "source": [
        "train_df['total_lines'].plot.hist()"
      ],
      "execution_count": 105,
      "outputs": [
        {
          "output_type": "execute_result",
          "data": {
            "text/plain": [
              "<matplotlib.axes._subplots.AxesSubplot at 0x7f8662c5abd0>"
            ]
          },
          "metadata": {},
          "execution_count": 105
        },
        {
          "output_type": "display_data",
          "data": {
            "image/png": "[encoded data removed]",
            "text/plain": [
              "<Figure size 432x288 with 1 Axes>"
            ]
          },
          "metadata": {
            "needs_background": "light"
          }
        }
      ]
    },
    {
      "cell_type": "code",
      "metadata": {
        "id": "lSOcfHofXvrZ",
        "colab": {
          "base_uri": "https://localhost:8080/"
        },
        "outputId": "458716bf-7358-49ba-aa4d-b2671da89e31"
      },
      "source": [
        "# Check the coverage of a 'total_lines' value of 20\n",
        "np.percentile(train_df.total_lines, 98)"
      ],
      "execution_count": 106,
      "outputs": [
        {
          "output_type": "execute_result",
          "data": {
            "text/plain": [
              "20.0"
            ]
          },
          "metadata": {},
          "execution_count": 106
        }
      ]
    },
    {
      "cell_type": "code",
      "metadata": {
        "colab": {
          "base_uri": "https://localhost:8080/"
        },
        "id": "Xn6ga8SWYisK",
        "outputId": "6eb59e4a-f686-4659-e76d-288b3c10814d"
      },
      "source": [
        "# Use TF to create one_hot_encoded tensors of our 'total_lines' feature\n",
        "train_total_lines_one_hot = tf.one_hot(train_df['total_lines'].to_numpy(), depth=20)\n",
        "val_total_lines_one_hot = tf.one_hot(val_df['total_lines'].to_numpy(), depth=20)\n",
        "test_total_lines_one_hot = tf.one_hot(test_df['total_lines'].to_numpy(), depth=20)\n",
        "\n",
        "train_total_lines_one_hot.shape, train_total_lines_one_hot[:10]"
      ],
      "execution_count": 107,
      "outputs": [
        {
          "output_type": "execute_result",
          "data": {
            "text/plain": [
              "(TensorShape([180040, 20]), <tf.Tensor: shape=(10, 20), dtype=float32, numpy=\n",
              " array([[0., 0., 0., 0., 0., 0., 0., 0., 0., 0., 0., 1., 0., 0., 0., 0.,\n",
              "         0., 0., 0., 0.],\n",
              "        [0., 0., 0., 0., 0., 0., 0., 0., 0., 0., 0., 1., 0., 0., 0., 0.,\n",
              "         0., 0., 0., 0.],\n",
              "        [0., 0., 0., 0., 0., 0., 0., 0., 0., 0., 0., 1., 0., 0., 0., 0.,\n",
              "         0., 0., 0., 0.],\n",
              "        [0., 0., 0., 0., 0., 0., 0., 0., 0., 0., 0., 1., 0., 0., 0., 0.,\n",
              "         0., 0., 0., 0.],\n",
              "        [0., 0., 0., 0., 0., 0., 0., 0., 0., 0., 0., 1., 0., 0., 0., 0.,\n",
              "         0., 0., 0., 0.],\n",
              "        [0., 0., 0., 0., 0., 0., 0., 0., 0., 0., 0., 1., 0., 0., 0., 0.,\n",
              "         0., 0., 0., 0.],\n",
              "        [0., 0., 0., 0., 0., 0., 0., 0., 0., 0., 0., 1., 0., 0., 0., 0.,\n",
              "         0., 0., 0., 0.],\n",
              "        [0., 0., 0., 0., 0., 0., 0., 0., 0., 0., 0., 1., 0., 0., 0., 0.,\n",
              "         0., 0., 0., 0.],\n",
              "        [0., 0., 0., 0., 0., 0., 0., 0., 0., 0., 0., 1., 0., 0., 0., 0.,\n",
              "         0., 0., 0., 0.],\n",
              "        [0., 0., 0., 0., 0., 0., 0., 0., 0., 0., 0., 1., 0., 0., 0., 0.,\n",
              "         0., 0., 0., 0.]], dtype=float32)>)"
            ]
          },
          "metadata": {},
          "execution_count": 107
        }
      ]
    },
    {
      "cell_type": "markdown",
      "metadata": {
        "id": "PTvIQ6rJZtiv"
      },
      "source": [
        "### Building a tribrid embedding model\n",
        "\n",
        "1. Create a token-level model\n",
        "2. Create a character-level model\n",
        "3. Create a model for the 'line_number' feature\n",
        "4. Create a model for the 'total_lines' feature\n",
        "5. Combine the outputs of 1 & 2 using tf.keras.layers.Concatenate\n",
        "6. Combine the outputs of 3,4,5 using tf.keras.layers.Concatenate\n",
        "7. Create an output layer to accept the tribrid embedding and output label probabilities\n",
        "8. Combine the inputs of 1, 2, 3 and 4, and outputs of 7 into a tf.keras.Model"
      ]
    },
    {
      "cell_type": "markdown",
      "metadata": {
        "id": "G-WzGKJIbjh4"
      },
      "source": [
        "#### 1.Token inputs"
      ]
    },
    {
      "cell_type": "code",
      "metadata": {
        "id": "nNjLq8yzbqOV"
      },
      "source": [
        "token_inputs = layers.Input(shape=[], dtype=\"string\", name=\"token_inputs\")\n",
        "token_embeddings = tf_hub_embedding_layer(token_inputs)\n",
        "token_outputs = layers.Dense(128, activation=\"relu\")(token_embeddings)\n",
        "token_model = tf.keras.Model(inputs=token_inputs,\n",
        "                              outputs=token_outputs)"
      ],
      "execution_count": 108,
      "outputs": []
    },
    {
      "cell_type": "markdown",
      "metadata": {
        "id": "RPO--BSRcX3D"
      },
      "source": [
        "#### 2.Character-level model\n",
        "\n",
        "\n"
      ]
    },
    {
      "cell_type": "code",
      "metadata": {
        "id": "I161exrOce4z"
      },
      "source": [
        "char_inputs = layers.Input(shape=(1,), dtype=\"string\", name=\"char_inputs\")\n",
        "char_vectors = char_vectorizer(char_inputs)\n",
        "char_embeddings = char_embed(char_vectors)\n",
        "char_bi_lstm = layers.Bidirectional(layers.LSTM(24))(char_embeddings)\n",
        "char_model = tf.keras.Model(inputs=char_inputs,\n",
        "                            outputs=char_bi_lstm\n",
        "                            )"
      ],
      "execution_count": 109,
      "outputs": []
    },
    {
      "cell_type": "markdown",
      "metadata": {
        "id": "gs5av-_IdgAD"
      },
      "source": [
        "#### 3.Model for 'line_number' feature"
      ]
    },
    {
      "cell_type": "code",
      "metadata": {
        "id": "n1eMDkWjeEvy"
      },
      "source": [
        "line_number_inputs = layers.Input(shape=(15,), dtype=tf.float32, name=\"line_number_input\")\n",
        "x = layers.Dense(32, activation=\"relu\")(line_number_inputs)\n",
        "line_number_model = tf.keras.Model(inputs=line_number_inputs,\n",
        "                                    outputs=x)"
      ],
      "execution_count": 110,
      "outputs": []
    },
    {
      "cell_type": "markdown",
      "metadata": {
        "id": "IrVxDDDbe2um"
      },
      "source": [
        "#### 4. Model for 'total_lines' feature"
      ]
    },
    {
      "cell_type": "code",
      "metadata": {
        "id": "ebToK0npf6Eg"
      },
      "source": [
        "total_lines_inputs = layers.Input(shape=(20,), dtype=tf.float32, name=\"total_lines_inputs\")\n",
        "y = layers.Dense(32, activation=\"relu\")(total_lines_inputs)\n",
        "total_lines_model = tf.keras.Model(inputs=total_lines_inputs,\n",
        "                                   outputs=y)"
      ],
      "execution_count": 111,
      "outputs": []
    },
    {
      "cell_type": "markdown",
      "metadata": {
        "id": "D4joSUSMgUfT"
      },
      "source": [
        "#### 5. Combine token and char embeddings into a hybrid embedding"
      ]
    },
    {
      "cell_type": "code",
      "metadata": {
        "id": "HD-8-veHhEmM"
      },
      "source": [
        "combined_embeddings = layers.Concatenate(name=\"char_token_hybrid_embedding\")([token_model.output,\n",
        "                                                                              char_model.output])\n",
        "z = layers.Dense(256, activation=\"relu\")(combined_embeddings)\n",
        "z = layers.Dropout(0.5)(z)"
      ],
      "execution_count": 112,
      "outputs": []
    },
    {
      "cell_type": "markdown",
      "metadata": {
        "id": "XD5mJTC8hiPN"
      },
      "source": [
        "#### 6. Combine positional embeddings with combined token and char embeddings\n"
      ]
    },
    {
      "cell_type": "code",
      "metadata": {
        "id": "Mf4x6Oi_h0-y"
      },
      "source": [
        "tribrid_embeddings = layers.Concatenate(name=\"tribrid_embedding\")([line_number_model.output,\n",
        "                                                                   total_lines_model.output,\n",
        "                                                                   z])"
      ],
      "execution_count": 113,
      "outputs": []
    },
    {
      "cell_type": "markdown",
      "metadata": {
        "id": "CB0Tb7IfisbW"
      },
      "source": [
        "#### 7.Create output layer"
      ]
    },
    {
      "cell_type": "code",
      "metadata": {
        "id": "0N-R7Gsli4ql"
      },
      "source": [
        "output_layer = layers.Dense(5, activation=\"softmax\", name=\"output_layer\")(tribrid_embeddings)"
      ],
      "execution_count": 114,
      "outputs": []
    },
    {
      "cell_type": "markdown",
      "metadata": {
        "id": "9eb_0kZxjHY6"
      },
      "source": [
        "#### 8. Put everything together"
      ]
    },
    {
      "cell_type": "code",
      "metadata": {
        "id": "yiln0w0CjLl8"
      },
      "source": [
        "model_5 = tf.keras.Model(inputs=[line_number_model.input,\n",
        "                                 total_lines_model.input,\n",
        "                                 token_model.input,\n",
        "                                 char_model.input],\n",
        "                         outputs=output_layer, \n",
        "                         name=\"model_5_tribrid_embedding_model\")"
      ],
      "execution_count": 115,
      "outputs": []
    },
    {
      "cell_type": "code",
      "metadata": {
        "colab": {
          "base_uri": "https://localhost:8080/"
        },
        "id": "8y_Q1rKojm5z",
        "outputId": "1a609e36-1425-4b14-90c9-06d1fc13e20e"
      },
      "source": [
        "model_5.summary()"
      ],
      "execution_count": 116,
      "outputs": [
        {
          "output_type": "stream",
          "name": "stdout",
          "text": [
            "Model: \"model_5_tribrid_embedding_model\"\n",
            "__________________________________________________________________________________________________\n",
            "Layer (type)                    Output Shape         Param #     Connected to                     \n",
            "==================================================================================================\n",
            "char_inputs (InputLayer)        [(None, 1)]          0                                            \n",
            "__________________________________________________________________________________________________\n",
            "token_inputs (InputLayer)       [(None,)]            0                                            \n",
            "__________________________________________________________________________________________________\n",
            "char_vectorizer (TextVectorizat (None, 290)          0           char_inputs[0][0]                \n",
            "__________________________________________________________________________________________________\n",
            "universal_sentence_encoder (Ker (None, 512)          256797824   token_inputs[0][0]               \n",
            "__________________________________________________________________________________________________\n",
            "char_embed (Embedding)          (None, 290, 25)      700         char_vectorizer[2][0]            \n",
            "__________________________________________________________________________________________________\n",
            "dense_7 (Dense)                 (None, 128)          65664       universal_sentence_encoder[2][0] \n",
            "__________________________________________________________________________________________________\n",
            "bidirectional_1 (Bidirectional) (None, 48)           9600        char_embed[2][0]                 \n",
            "__________________________________________________________________________________________________\n",
            "char_token_hybrid_embedding (Co (None, 176)          0           dense_7[0][0]                    \n",
            "                                                                 bidirectional_1[0][0]            \n",
            "__________________________________________________________________________________________________\n",
            "line_number_input (InputLayer)  [(None, 15)]         0                                            \n",
            "__________________________________________________________________________________________________\n",
            "total_lines_inputs (InputLayer) [(None, 20)]         0                                            \n",
            "__________________________________________________________________________________________________\n",
            "dense_10 (Dense)                (None, 256)          45312       char_token_hybrid_embedding[0][0]\n",
            "__________________________________________________________________________________________________\n",
            "dense_8 (Dense)                 (None, 32)           512         line_number_input[0][0]          \n",
            "__________________________________________________________________________________________________\n",
            "dense_9 (Dense)                 (None, 32)           672         total_lines_inputs[0][0]         \n",
            "__________________________________________________________________________________________________\n",
            "dropout_2 (Dropout)             (None, 256)          0           dense_10[0][0]                   \n",
            "__________________________________________________________________________________________________\n",
            "tribrid_embedding (Concatenate) (None, 320)          0           dense_8[0][0]                    \n",
            "                                                                 dense_9[0][0]                    \n",
            "                                                                 dropout_2[0][0]                  \n",
            "__________________________________________________________________________________________________\n",
            "output_layer (Dense)            (None, 5)            1605        tribrid_embedding[0][0]          \n",
            "==================================================================================================\n",
            "Total params: 256,921,889\n",
            "Trainable params: 124,065\n",
            "Non-trainable params: 256,797,824\n",
            "__________________________________________________________________________________________________\n"
          ]
        }
      ]
    },
    {
      "cell_type": "code",
      "metadata": {
        "colab": {
          "base_uri": "https://localhost:8080/",
          "height": 856
        },
        "id": "RV_0oaaFkGAs",
        "outputId": "c22747ea-4fc4-426b-96b3-a19fe0032b66"
      },
      "source": [
        "# Plot model_5\n",
        "from tensorflow.keras.utils import plot_model\n",
        "plot_model(model_5)"
      ],
      "execution_count": 117,
      "outputs": [
        {
          "output_type": "execute_result",
          "data": {
            "image/png": "[encoded data removed]",
            "text/plain": [
              "<IPython.core.display.Image object>"
            ]
          },
          "metadata": {},
          "execution_count": 117
        }
      ]
    },
    {
      "cell_type": "code",
      "metadata": {
        "id": "oKzib-ghIo1O"
      },
      "source": [
        "# Compile model_5\n",
        "model_5.compile(loss=tf.keras.losses.CategoricalCrossentropy(label_smoothing=0.2),\n",
        "                optimizer=tf.keras.optimizers.Adam(),\n",
        "                metrics=['accuracy'])"
      ],
      "execution_count": 118,
      "outputs": []
    },
    {
      "cell_type": "markdown",
      "metadata": {
        "id": "2wK1pEg5J6mq"
      },
      "source": [
        "### Create tribrid embedding datasets using `tf.data`"
      ]
    },
    {
      "cell_type": "code",
      "metadata": {
        "id": "CBe_RgPKLLJ4"
      },
      "source": [
        "# Create training and validation datasets with all four kinds of input data\n",
        "train_char_token_pos_data = tf.data.Dataset.from_tensor_slices((train_line_numbers_one_hot,\n",
        "                                                    train_total_lines_one_hot,\n",
        "                                                    train_sentences,\n",
        "                                                    train_chars))\n",
        "train_char_token_pos_labels = tf.data.Dataset.from_tensor_slices(train_labels_one_hot)\n",
        "train_char_token_pos_dataset = tf.data.Dataset.zip((train_char_token_pos_data,\n",
        "                                                train_char_token_pos_labels))\n",
        "\n",
        "train_char_token_pos_dataset = train_char_token_pos_dataset.batch(32).prefetch(tf.data.AUTOTUNE)\n",
        "\n",
        "#Do the same for validation dataset\n",
        "val_char_token_pos_data = tf.data.Dataset.from_tensor_slices((val_line_numbers_one_hot,\n",
        "                                                    val_total_lines_one_hot,\n",
        "                                                    val_sentences,\n",
        "                                                    val_chars))\n",
        "val_char_token_pos_labels = tf.data.Dataset.from_tensor_slices(val_labels_one_hot)\n",
        "val_char_token_pos_dataset = tf.data.Dataset.zip((val_char_token_pos_data,\n",
        "                                                val_char_token_pos_labels))\n",
        "\n",
        "val_char_token_pos_dataset = val_char_token_pos_dataset.batch(32).prefetch(tf.data.AUTOTUNE)\n",
        "\n"
      ],
      "execution_count": 119,
      "outputs": []
    },
    {
      "cell_type": "code",
      "metadata": {
        "colab": {
          "base_uri": "https://localhost:8080/"
        },
        "id": "XmNQMeXuNSQj",
        "outputId": "7ced8ba3-3857-4eda-bd49-06c03201a995"
      },
      "source": [
        "# Check input shapes\n",
        "train_char_token_pos_dataset, val_char_token_pos_dataset"
      ],
      "execution_count": 120,
      "outputs": [
        {
          "output_type": "execute_result",
          "data": {
            "text/plain": [
              "(<PrefetchDataset shapes: (((None, 15), (None, 20), (None,), (None,)), (None, 5)), types: ((tf.float32, tf.float32, tf.string, tf.string), tf.float64)>,\n",
              " <PrefetchDataset shapes: (((None, 15), (None, 20), (None,), (None,)), (None, 5)), types: ((tf.float32, tf.float32, tf.string, tf.string), tf.float64)>)"
            ]
          },
          "metadata": {},
          "execution_count": 120
        }
      ]
    },
    {
      "cell_type": "code",
      "metadata": {
        "colab": {
          "base_uri": "https://localhost:8080/"
        },
        "id": "5emh30qmONAH",
        "outputId": "35ac1c18-458d-4bd3-cc0a-3cd57499e7e0"
      },
      "source": [
        "# Fitting the model\n",
        "history_model_5 = model_5.fit(train_char_token_pos_dataset,\n",
        "                              epochs=3,\n",
        "                              steps_per_epoch=len(train_char_token_pos_dataset),\n",
        "                              validation_data=val_char_token_pos_dataset,\n",
        "                              validation_steps=len(val_char_token_pos_dataset))"
      ],
      "execution_count": 121,
      "outputs": [
        {
          "output_type": "stream",
          "name": "stdout",
          "text": [
            "Epoch 1/3\n",
            "5627/5627 [==============================] - 1954s 346ms/step - loss: 0.9525 - accuracy: 0.8237 - val_loss: 0.9068 - val_accuracy: 0.8492\n",
            "Epoch 2/3\n",
            "5627/5627 [==============================] - 1861s 331ms/step - loss: 0.9081 - accuracy: 0.8543 - val_loss: 0.8978 - val_accuracy: 0.8554\n",
            "Epoch 3/3\n",
            "5627/5627 [==============================] - 1857s 330ms/step - loss: 0.8954 - accuracy: 0.8633 - val_loss: 0.8955 - val_accuracy: 0.8555\n"
          ]
        }
      ]
    },
    {
      "cell_type": "code",
      "metadata": {
        "colab": {
          "base_uri": "https://localhost:8080/"
        },
        "id": "Tm3x-Zw3RDI4",
        "outputId": "8c9c3fe1-fed6-47b3-acae-3f256a66ff5d"
      },
      "source": [
        "# Evaluating model_5\n",
        "model_5.evaluate(val_char_token_pos_dataset)"
      ],
      "execution_count": 122,
      "outputs": [
        {
          "output_type": "stream",
          "name": "stdout",
          "text": [
            "945/945 [==============================] - 65s 69ms/step - loss: 0.8955 - accuracy: 0.8555\n"
          ]
        },
        {
          "output_type": "execute_result",
          "data": {
            "text/plain": [
              "[0.8955192565917969, 0.8554878830909729]"
            ]
          },
          "metadata": {},
          "execution_count": 122
        }
      ]
    },
    {
      "cell_type": "code",
      "metadata": {
        "colab": {
          "base_uri": "https://localhost:8080/"
        },
        "id": "V5815STdAKqv",
        "outputId": "95158b28-beb2-4b6a-daa8-bb9af0d7ece8"
      },
      "source": [
        "# Making predictions\n",
        "model_5_pred_probs = model_5.predict(val_char_token_pos_dataset)\n",
        "model_5_preds = tf.argmax(model_5_pred_probs, axis=1)\n",
        "model_5_results = calculate_results(y_true=val_labels_encoded,\n",
        "                                    y_pred=model_5_preds)\n",
        "model_5_results"
      ],
      "execution_count": 123,
      "outputs": [
        {
          "output_type": "execute_result",
          "data": {
            "text/plain": [
              "{'accuracy': 85.54878856083675,\n",
              " 'f1': 0.8528824746018624,\n",
              " 'precision': 0.8561205689559556,\n",
              " 'recall': 0.8554878856083675}"
            ]
          },
          "metadata": {},
          "execution_count": 123
        }
      ]
    },
    {
      "cell_type": "markdown",
      "metadata": {
        "id": "1ucR9kDuAG1_"
      },
      "source": [
        "## Compare model results"
      ]
    },
    {
      "cell_type": "code",
      "metadata": {
        "colab": {
          "base_uri": "https://localhost:8080/",
          "height": 235
        },
        "id": "hJ3MVMPSA7ql",
        "outputId": "b4259f9a-bc65-44ec-94ad-6136ba2cf92d"
      },
      "source": [
        "# Combine model results into a dataframe\n",
        "\n",
        "all_model_results = pd.DataFrame({\"model_0_baseline\": baseline_results,\n",
        "                                 \"model_1_custom_token_embedding\": model_1_results,\n",
        "                                  \"model_2_pretrained_token_embedding\":model_2_results,\n",
        "                                  \"model_3_char_embedding\": model_3_results,\n",
        "                                  \"model_4_hybrid_char_token_embedding\":model_4_results,\n",
        "                                  \"model_5_pos_char_token_embedding\":model_5_results})\n",
        "all_model_results = all_model_results.transpose()\n",
        "all_model_results"
      ],
      "execution_count": 124,
      "outputs": [
        {
          "output_type": "execute_result",
          "data": {
            "text/html": [
              "<div>\n",
              "<style scoped>\n",
              "    .dataframe tbody tr th:only-of-type {\n",
              "        vertical-align: middle;\n",
              "    }\n",
              "\n",
              "    .dataframe tbody tr th {\n",
              "        vertical-align: top;\n",
              "    }\n",
              "\n",
              "    .dataframe thead th {\n",
              "        text-align: right;\n",
              "    }\n",
              "</style>\n",
              "<table border=\"1\" class=\"dataframe\">\n",
              "  <thead>\n",
              "    <tr style=\"text-align: right;\">\n",
              "      <th></th>\n",
              "      <th>accuracy</th>\n",
              "      <th>precision</th>\n",
              "      <th>recall</th>\n",
              "      <th>f1</th>\n",
              "    </tr>\n",
              "  </thead>\n",
              "  <tbody>\n",
              "    <tr>\n",
              "      <th>model_0_baseline</th>\n",
              "      <td>72.183238</td>\n",
              "      <td>0.718647</td>\n",
              "      <td>0.721832</td>\n",
              "      <td>0.698925</td>\n",
              "    </tr>\n",
              "    <tr>\n",
              "      <th>model_1_custom_token_embedding</th>\n",
              "      <td>78.803125</td>\n",
              "      <td>0.785013</td>\n",
              "      <td>0.788031</td>\n",
              "      <td>0.785804</td>\n",
              "    </tr>\n",
              "    <tr>\n",
              "      <th>model_2_pretrained_token_embedding</th>\n",
              "      <td>71.537800</td>\n",
              "      <td>0.715959</td>\n",
              "      <td>0.715378</td>\n",
              "      <td>0.712309</td>\n",
              "    </tr>\n",
              "    <tr>\n",
              "      <th>model_3_char_embedding</th>\n",
              "      <td>64.802065</td>\n",
              "      <td>0.642262</td>\n",
              "      <td>0.648021</td>\n",
              "      <td>0.636148</td>\n",
              "    </tr>\n",
              "    <tr>\n",
              "      <th>model_4_hybrid_char_token_embedding</th>\n",
              "      <td>73.500596</td>\n",
              "      <td>0.734780</td>\n",
              "      <td>0.735006</td>\n",
              "      <td>0.731819</td>\n",
              "    </tr>\n",
              "    <tr>\n",
              "      <th>model_5_pos_char_token_embedding</th>\n",
              "      <td>85.548789</td>\n",
              "      <td>0.856121</td>\n",
              "      <td>0.855488</td>\n",
              "      <td>0.852882</td>\n",
              "    </tr>\n",
              "  </tbody>\n",
              "</table>\n",
              "</div>"
            ],
            "text/plain": [
              "                                      accuracy  precision    recall        f1\n",
              "model_0_baseline                     72.183238   0.718647  0.721832  0.698925\n",
              "model_1_custom_token_embedding       78.803125   0.785013  0.788031  0.785804\n",
              "model_2_pretrained_token_embedding   71.537800   0.715959  0.715378  0.712309\n",
              "model_3_char_embedding               64.802065   0.642262  0.648021  0.636148\n",
              "model_4_hybrid_char_token_embedding  73.500596   0.734780  0.735006  0.731819\n",
              "model_5_pos_char_token_embedding     85.548789   0.856121  0.855488  0.852882"
            ]
          },
          "metadata": {},
          "execution_count": 124
        }
      ]
    },
    {
      "cell_type": "code",
      "metadata": {
        "id": "GbcXlEwJB_c4"
      },
      "source": [
        "# Reduce the accuracy to same scale as other metrics\n",
        "all_model_results['accuracy'] = all_model_results['accuracy']/100"
      ],
      "execution_count": 125,
      "outputs": []
    },
    {
      "cell_type": "code",
      "metadata": {
        "colab": {
          "base_uri": "https://localhost:8080/",
          "height": 619
        },
        "id": "A4ghu90ECeFy",
        "outputId": "7959bf1d-0b4b-4d7f-f6ad-13091376917a"
      },
      "source": [
        "# Plot and compare all model results\n",
        "all_model_results.plot(kind=\"bar\", figsize=(10,7)).legend(bbox_to_anchor=(1.0,1.0));"
      ],
      "execution_count": 126,
      "outputs": [
        {
          "output_type": "display_data",
          "data": {
            "image/png": "[encoded data removed]",
            "text/plain": [
              "<Figure size 720x504 with 1 Axes>"
            ]
          },
          "metadata": {
            "needs_background": "light"
          }
        }
      ]
    },
    {
      "cell_type": "code",
      "metadata": {
        "colab": {
          "base_uri": "https://localhost:8080/",
          "height": 636
        },
        "id": "-f0ZGbg_Cw4y",
        "outputId": "66eb6634-5553-40f1-9723-85b950b2df76"
      },
      "source": [
        "# Sort the models' results by f1-score\n",
        "all_model_results.sort_values(\"f1\", ascending=True)['f1'].plot(kind=\"bar\", figsize=(10,7))"
      ],
      "execution_count": 127,
      "outputs": [
        {
          "output_type": "execute_result",
          "data": {
            "text/plain": [
              "<matplotlib.axes._subplots.AxesSubplot at 0x7f865f7d2950>"
            ]
          },
          "metadata": {},
          "execution_count": 127
        },
        {
          "output_type": "display_data",
          "data": {
            "image/png": "[encoded data removed]",
            "text/plain": [
              "<Figure size 720x504 with 1 Axes>"
            ]
          },
          "metadata": {
            "needs_background": "light"
          }
        }
      ]
    },
    {
      "cell_type": "markdown",
      "metadata": {
        "id": "FrwWcIMdDYUX"
      },
      "source": [
        "## Save and Load the Model"
      ]
    },
    {
      "cell_type": "code",
      "metadata": {
        "colab": {
          "base_uri": "https://localhost:8080/"
        },
        "id": "jmVwwruoGecl",
        "outputId": "a9c057e4-854e-4eec-eaaa-bf08735fa6ab"
      },
      "source": [
        "model_5.summary()"
      ],
      "execution_count": 128,
      "outputs": [
        {
          "output_type": "stream",
          "name": "stdout",
          "text": [
            "Model: \"model_5_tribrid_embedding_model\"\n",
            "__________________________________________________________________________________________________\n",
            "Layer (type)                    Output Shape         Param #     Connected to                     \n",
            "==================================================================================================\n",
            "char_inputs (InputLayer)        [(None, 1)]          0                                            \n",
            "__________________________________________________________________________________________________\n",
            "token_inputs (InputLayer)       [(None,)]            0                                            \n",
            "__________________________________________________________________________________________________\n",
            "char_vectorizer (TextVectorizat (None, 290)          0           char_inputs[0][0]                \n",
            "__________________________________________________________________________________________________\n",
            "universal_sentence_encoder (Ker (None, 512)          256797824   token_inputs[0][0]               \n",
            "__________________________________________________________________________________________________\n",
            "char_embed (Embedding)          (None, 290, 25)      700         char_vectorizer[2][0]            \n",
            "__________________________________________________________________________________________________\n",
            "dense_7 (Dense)                 (None, 128)          65664       universal_sentence_encoder[2][0] \n",
            "__________________________________________________________________________________________________\n",
            "bidirectional_1 (Bidirectional) (None, 48)           9600        char_embed[2][0]                 \n",
            "__________________________________________________________________________________________________\n",
            "char_token_hybrid_embedding (Co (None, 176)          0           dense_7[0][0]                    \n",
            "                                                                 bidirectional_1[0][0]            \n",
            "__________________________________________________________________________________________________\n",
            "line_number_input (InputLayer)  [(None, 15)]         0                                            \n",
            "__________________________________________________________________________________________________\n",
            "total_lines_inputs (InputLayer) [(None, 20)]         0                                            \n",
            "__________________________________________________________________________________________________\n",
            "dense_10 (Dense)                (None, 256)          45312       char_token_hybrid_embedding[0][0]\n",
            "__________________________________________________________________________________________________\n",
            "dense_8 (Dense)                 (None, 32)           512         line_number_input[0][0]          \n",
            "__________________________________________________________________________________________________\n",
            "dense_9 (Dense)                 (None, 32)           672         total_lines_inputs[0][0]         \n",
            "__________________________________________________________________________________________________\n",
            "dropout_2 (Dropout)             (None, 256)          0           dense_10[0][0]                   \n",
            "__________________________________________________________________________________________________\n",
            "tribrid_embedding (Concatenate) (None, 320)          0           dense_8[0][0]                    \n",
            "                                                                 dense_9[0][0]                    \n",
            "                                                                 dropout_2[0][0]                  \n",
            "__________________________________________________________________________________________________\n",
            "output_layer (Dense)            (None, 5)            1605        tribrid_embedding[0][0]          \n",
            "==================================================================================================\n",
            "Total params: 256,921,889\n",
            "Trainable params: 124,065\n",
            "Non-trainable params: 256,797,824\n",
            "__________________________________________________________________________________________________\n"
          ]
        }
      ]
    },
    {
      "cell_type": "code",
      "metadata": {
        "id": "73kHNVJ5D2w3"
      },
      "source": [
        "# Save the best-performing model\n",
        "#tf.keras.models.save_model(model_5, filepath=\"/content\")\n",
        "#model_5.save(\"model_5.h5\")"
      ],
      "execution_count": 2,
      "outputs": []
    }
  ]
}